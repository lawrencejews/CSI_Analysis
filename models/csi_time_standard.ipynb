{
 "cells": [
  {
   "cell_type": "code",
   "execution_count": null,
   "metadata": {},
   "outputs": [],
   "source": [
    "import os\n",
    "import datetime\n",
    "import time\n",
    "\n",
    "import IPython\n",
    "import IPython.display\n",
    "import matplotlib as mpl\n",
    "import matplotlib.pyplot as plt\n",
    "import numpy as np\n",
    "import pandas as pd\n",
    "import seaborn as sns\n",
    "import tensorflow as tf\n",
    "from sklearn.preprocessing import MinMaxScaler, StandardScaler\n",
    "from sklearn.model_selection import train_test_split\n",
    "from tensorflow.keras.callbacks import ModelCheckpoint\n",
    "from keras.preprocessing.sequence import TimeseriesGenerator\n",
    "\n",
    "\n",
    "mpl.rcParams['figure.figsize'] = (20, 8)\n",
    "mpl.rcParams['axes.grid'] = False\n",
    "plt.style.use('ggplot')"
   ]
  },
  {
   "cell_type": "code",
   "execution_count": null,
   "metadata": {},
   "outputs": [],
   "source": [
    "\n",
    "data_2 = pd.read_csv('../output/zero4_outputs.csv')\n",
    "data_2 = data_2.drop([data_2.columns[0]], axis='columns')\n",
    "data_2 = data_2.iloc[:, :-3]\n",
    "data_2.reset_index(drop=True, inplace=True)\n",
    "# unit='s' to convert it into epoch time\n",
    "data_2['Time'] = pd.to_datetime(data_2['Time'])\n",
    "\n",
    "date_time = data_2['Time'].dt.strftime('%S')\n",
    "\n",
    "\n",
    "# checking our dataframe once again\n",
    "data_2.head()\n"
   ]
  },
  {
   "cell_type": "code",
   "execution_count": null,
   "metadata": {},
   "outputs": [],
   "source": [
    "plot_cols = ['Subcar_6', 'Subcar_7', 'Subcar_8']\n",
    "plot_features = data_2[plot_cols]\n",
    "plot_features.index = date_time\n",
    "_ = plot_features.plot(subplots=True)\n",
    "plt.savefig('../images/raw_data_1.png', dpi=500,)\n",
    "\n",
    "plot_features = data_2[plot_cols][:480]\n",
    "plot_features.index = date_time[:480]\n",
    "_ = plot_features.plot(subplots=True)\n",
    "plt.savefig('../images/raw_data_2.png', dpi=500,)\n",
    "\n"
   ]
  },
  {
   "cell_type": "code",
   "execution_count": null,
   "metadata": {},
   "outputs": [],
   "source": [
    "plot_cols = ['Subcar_6', 'Subcar_7', 'Subcar_9',\n",
    "             'Subcar_10', 'Subcar_11', 'Subcar_13', 'Subcar_15', 'Subcar_16', 'Subcar_17', 'Subcar_18', 'Subcar_19']\n",
    "plot_features = data_2[plot_cols]\n",
    "plot_features.index = date_time\n",
    "_ = plot_features.plot(subplots=False)\n",
    "plt.ylabel(\"Amplitude\", fontsize=20, fontweight='bold', horizontalalignment='center')\n",
    "plt.xlabel(\"Time\", fontsize=20, fontweight='bold',horizontalalignment='center')\n",
    "plt.xticks(fontsize=16)\n",
    "plt.yticks(fontsize=16)\n",
    "plt.legend(fontsize=13)\n",
    "plt.savefig('../images/raw_data.pdf', dpi=300)\n"
   ]
  },
  {
   "cell_type": "code",
   "execution_count": null,
   "metadata": {},
   "outputs": [],
   "source": [
    "# Set the date column as the index of your DataFrame meat\n",
    "data_2 = data_2.set_index('Time')\n",
    "\n",
    "# Print the summary statistics of the DataFrame\n",
    "print(data_2.describe())\n"
   ]
  },
  {
   "cell_type": "code",
   "execution_count": null,
   "metadata": {},
   "outputs": [],
   "source": [
    "df_input = data_2[['Subcar_6', 'Subcar_7', 'Subcar_9',\n",
    "                   'Subcar_10', 'Subcar_11', 'Subcar_13','Subcar_15', 'Subcar_16', 'Subcar_17', 'Subcar_18', 'Subcar_19']]\n",
    "df_input.head()\n"
   ]
  },
  {
   "cell_type": "code",
   "execution_count": null,
   "metadata": {},
   "outputs": [],
   "source": [
    "df_input.describe()\n"
   ]
  },
  {
   "cell_type": "code",
   "execution_count": null,
   "metadata": {},
   "outputs": [],
   "source": [
    "df_input.query(\"Subcar_13 > 511\")\n"
   ]
  },
  {
   "cell_type": "code",
   "execution_count": null,
   "metadata": {},
   "outputs": [],
   "source": [
    "def mape(actual, pred):\n",
    "    actual, pred = np.array(actual), np.array(pred)\n",
    "    return np.mean(np.abs((actual - pred) / actual)) * 100\n"
   ]
  },
  {
   "cell_type": "code",
   "execution_count": null,
   "metadata": {},
   "outputs": [],
   "source": [
    "scaler = StandardScaler()\n",
    "data_scaled = scaler.fit_transform(df_input)\n",
    "data_scaled\n"
   ]
  },
  {
   "cell_type": "code",
   "execution_count": null,
   "metadata": {},
   "outputs": [],
   "source": [
    "features = data_scaled\n",
    "target = data_scaled[:, 1]\n"
   ]
  },
  {
   "cell_type": "code",
   "execution_count": null,
   "metadata": {},
   "outputs": [],
   "source": [
    "TimeseriesGenerator(features, target, length=6,\n",
    "                    sampling_rate=1, batch_size=1)[1]\n"
   ]
  },
  {
   "cell_type": "code",
   "execution_count": null,
   "metadata": {},
   "outputs": [],
   "source": [
    "x_train, x_test, y_train, y_test = train_test_split(\n",
    "    features, target, test_size=0.20, random_state=120, shuffle=False)\n",
    "print('X_train.shape: ', x_train.shape)\n",
    "print('X_test.shape: ', x_test.shape)\n"
   ]
  },
  {
   "cell_type": "code",
   "execution_count": null,
   "metadata": {},
   "outputs": [],
   "source": [
    "win_length = 144  # 1 day = 144 of data, 5 day = 720 of data\n",
    "batch_size = 32\n",
    "num_features = 11\n",
    "train_generator = tf.keras.preprocessing.sequence.TimeseriesGenerator(\n",
    "    x_train, y_train, length=win_length, sampling_rate=1, batch_size=batch_size)\n",
    "test_generator = tf.keras.preprocessing.sequence.TimeseriesGenerator(\n",
    "    x_test, y_test, length=win_length, sampling_rate=1, batch_size=batch_size)"
   ]
  },
  {
   "cell_type": "code",
   "execution_count": null,
   "metadata": {},
   "outputs": [],
   "source": [
    "train_generator[0]\n"
   ]
  },
  {
   "cell_type": "code",
   "execution_count": null,
   "metadata": {},
   "outputs": [],
   "source": [
    "lstm_model = tf.keras.Sequential([\n",
    "    tf.keras.layers.LSTM(128, input_shape=(\n",
    "        win_length, num_features), return_sequences=True),\n",
    "    tf.keras.layers.LeakyReLU(alpha=0.5),\n",
    "    tf.keras.layers.LSTM(128, return_sequences=True),\n",
    "    tf.keras.layers.LeakyReLU(alpha=0.5),\n",
    "    tf.keras.layers.Dropout(0.3),\n",
    "    tf.keras.layers.LSTM(64, return_sequences=False),\n",
    "    tf.keras.layers.Dropout(0.3),\n",
    "    tf.keras.layers.Dense(1, 'linear')\n",
    "])\n",
    "\n",
    "lstm_model.summary()\n"
   ]
  },
  {
   "cell_type": "code",
   "execution_count": null,
   "metadata": {},
   "outputs": [],
   "source": [
    "cp1 = ModelCheckpoint('../save/lstm_model_standard/', save_best_only=True)\n",
    "early_stopping = tf.keras.callbacks.EarlyStopping(\n",
    "    monitor='val_loss',\n",
    "    patience=2,\n",
    "    mode='min'\n",
    ")\n",
    "lstm_model.compile(loss=tf.keras.losses.MeanSquaredError(),\n",
    "                   optimizer=tf.keras.optimizers.Adam(learning_rate=0.001),\n",
    "                   metrics=[tf.keras.metrics.MeanAbsoluteError()])\n",
    "\n",
    "val_performance = {}\n",
    "performance = {}"
   ]
  },
  {
   "cell_type": "code",
   "execution_count": null,
   "metadata": {},
   "outputs": [],
   "source": [
    "history = lstm_model.fit(\n",
    "    train_generator, epochs=15,\n",
    "    validation_data=test_generator,\n",
    "    shuffle=False,\n",
    "    callbacks=[early_stopping, cp1 ])\n"
   ]
  },
  {
   "cell_type": "code",
   "execution_count": null,
   "metadata": {},
   "outputs": [],
   "source": [
    "lstm_eval = lstm_model.evaluate(\n",
    "    test_generator, verbose=0\n",
    ")\n",
    "lstm_eval\n",
    "val_performance['LSTM'] = lstm_model.evaluate(train_generator)\n",
    "performance['LSTM'] = lstm_model.evaluate(test_generator, verbose=0)\n"
   ]
  },
  {
   "cell_type": "code",
   "execution_count": null,
   "metadata": {},
   "outputs": [],
   "source": [
    "predictions_lstm = lstm_model.predict(test_generator)"
   ]
  },
  {
   "cell_type": "code",
   "execution_count": null,
   "metadata": {},
   "outputs": [],
   "source": [
    "from tensorflow.keras.models import load_model\n",
    "gru_model = load_model('../save/lstm_model_standard/')"
   ]
  },
  {
   "cell_type": "code",
   "execution_count": null,
   "metadata": {},
   "outputs": [],
   "source": [
    "predictions_lstm.shape[0]\n"
   ]
  },
  {
   "cell_type": "code",
   "execution_count": null,
   "metadata": {},
   "outputs": [],
   "source": [
    "predictions_lstm\n"
   ]
  },
  {
   "cell_type": "code",
   "execution_count": null,
   "metadata": {},
   "outputs": [],
   "source": [
    "y_test\n"
   ]
  },
  {
   "cell_type": "code",
   "execution_count": null,
   "metadata": {},
   "outputs": [],
   "source": [
    "x_test\n"
   ]
  },
  {
   "cell_type": "code",
   "execution_count": null,
   "metadata": {},
   "outputs": [],
   "source": [
    "x_test[:, 1:][win_length:]\n"
   ]
  },
  {
   "cell_type": "code",
   "execution_count": null,
   "metadata": {},
   "outputs": [],
   "source": [
    "df_pred_lstm = pd.concat([pd.DataFrame(predictions_lstm),\n",
    "                    pd.DataFrame(x_test[:, 1:][win_length:])], axis=1)\n",
    "df_pred_lstm\n"
   ]
  },
  {
   "cell_type": "code",
   "execution_count": null,
   "metadata": {},
   "outputs": [],
   "source": [
    "# To the original format\n",
    "rev_trans = scaler.inverse_transform(df_pred_lstm)\n",
    "rev_trans\n"
   ]
  },
  {
   "cell_type": "code",
   "execution_count": null,
   "metadata": {},
   "outputs": [],
   "source": [
    "df_final_lstm = df_input[predictions_lstm.shape[0]*-1:]\n"
   ]
  },
  {
   "cell_type": "code",
   "execution_count": null,
   "metadata": {},
   "outputs": [],
   "source": [
    "df_final_lstm.count()\n"
   ]
  },
  {
   "cell_type": "code",
   "execution_count": null,
   "metadata": {},
   "outputs": [],
   "source": [
    "df_final_lstm['Subcar_13_pred'] = rev_trans[:, 1]\n",
    "df_final_lstm\n"
   ]
  },
  {
   "cell_type": "code",
   "execution_count": null,
   "metadata": {},
   "outputs": [],
   "source": [
    "plot_cols = ['Subcar_6', 'Subcar_7', 'Subcar_9',\n",
    "             'Subcar_10', 'Subcar_11', 'Subcar_13', 'Subcar_15', 'Subcar_16', 'Subcar_17', 'Subcar_18', 'Subcar_19']\n",
    "plot_features = df_input[plot_cols]\n",
    "plot_features.index = date_time\n",
    "_ = plot_features.plot(subplots=False)\n",
    "plt.ylabel(\"Amplitude\")\n",
    "\n",
    "df_final_lstm[['Subcar_13', 'Subcar_13_pred']]\n",
    "df_final_lstm.index = date_time[:617]\n",
    "_ = df_final_lstm.plot(subplots=False)\n",
    "plt.ylabel(\"Amplitude\")\n"
   ]
  },
  {
   "cell_type": "code",
   "execution_count": null,
   "metadata": {},
   "outputs": [],
   "source": [
    "gru_model = tf.keras.Sequential([\n",
    "    tf.keras.layers.Bidirectional(tf.keras.layers.LSTM(\n",
    "        128, input_shape=(win_length, num_features), return_sequences=True)),\n",
    "    tf.keras.layers.Bidirectional(tf.keras.layers.LSTM(64)),\n",
    "    tf.keras.layers.Dense(64, activation='relu'),\n",
    "    tf.keras.layers.Dense(1, activation='linear')\n",
    "])\n"
   ]
  },
  {
   "cell_type": "code",
   "execution_count": null,
   "metadata": {},
   "outputs": [],
   "source": [
    "cp3 = ModelCheckpoint('../save/gru_model_standard/', save_best_only=True)\n",
    "early_stopping = tf.keras.callbacks.EarlyStopping(\n",
    "    monitor='val_loss',\n",
    "    patience=2,\n",
    "    mode='min'\n",
    ")\n",
    "gru_model.compile(loss=tf.keras.losses.MeanSquaredError(),\n",
    "                  optimizer=tf.keras.optimizers.Adam(learning_rate=0.001),\n",
    "                  metrics=[tf.keras.metrics.MeanAbsoluteError()])\n"
   ]
  },
  {
   "cell_type": "code",
   "execution_count": null,
   "metadata": {},
   "outputs": [],
   "source": [
    "history_2 = gru_model.fit(\n",
    "    train_generator, epochs=10,\n",
    "    validation_data=test_generator,\n",
    "    shuffle=False,\n",
    "    callbacks=[early_stopping\n",
    "               , cp3])\n"
   ]
  },
  {
   "cell_type": "code",
   "execution_count": null,
   "metadata": {},
   "outputs": [],
   "source": [
    "from tensorflow.keras.models import load_model\n",
    "gru_model = load_model('../save/gru_model_standard/')"
   ]
  },
  {
   "cell_type": "code",
   "execution_count": null,
   "metadata": {},
   "outputs": [],
   "source": [
    "gru_eval = gru_model.evaluate(\n",
    "    test_generator, verbose=0\n",
    ")\n",
    "gru_eval\n",
    "val_performance['BiLSTM'] = lstm_model.evaluate(train_generator)\n",
    "performance['BiLSTM'] = lstm_model.evaluate(test_generator, verbose=0)\n"
   ]
  },
  {
   "cell_type": "code",
   "execution_count": null,
   "metadata": {},
   "outputs": [],
   "source": [
    "predictions_gru = gru_model.predict(test_generator)\n",
    "predictions_gru"
   ]
  },
  {
   "cell_type": "code",
   "execution_count": null,
   "metadata": {},
   "outputs": [],
   "source": [
    "predictions_gru.shape[0]\n"
   ]
  },
  {
   "cell_type": "code",
   "execution_count": null,
   "metadata": {},
   "outputs": [],
   "source": [
    "predictions_gru"
   ]
  },
  {
   "cell_type": "code",
   "execution_count": null,
   "metadata": {},
   "outputs": [],
   "source": [
    "df_pred_gru = pd.concat([pd.DataFrame(predictions_gru),\n",
    "                    pd.DataFrame(x_test[:, 1:][win_length:])], axis=1)\n",
    "df_pred_gru"
   ]
  },
  {
   "cell_type": "code",
   "execution_count": null,
   "metadata": {},
   "outputs": [],
   "source": [
    "# To the original format\n",
    "rev_trans = scaler.inverse_transform(df_pred_gru)\n",
    "rev_trans\n"
   ]
  },
  {
   "cell_type": "code",
   "execution_count": null,
   "metadata": {},
   "outputs": [],
   "source": [
    "df_final_gru = df_input[predictions_gru.shape[0]*-1:]"
   ]
  },
  {
   "cell_type": "code",
   "execution_count": null,
   "metadata": {},
   "outputs": [],
   "source": [
    "df_final_gru['Subcar_13_pred'] = rev_trans[:, 1]\n",
    "df_final_gru\n"
   ]
  },
  {
   "cell_type": "code",
   "execution_count": null,
   "metadata": {},
   "outputs": [],
   "source": [
    "\n",
    "conv_model = tf.keras.Sequential([\n",
    "    tf.keras.layers.Conv1D(filters=32,\n",
    "                           kernel_size=(2,),\n",
    "                           activation='relu', input_shape=(win_length, num_features)),\n",
    "    tf.keras.layers.Dense(units=32, activation='relu'),\n",
    "    tf.keras.layers.Dense(units=1),\n",
    "])\n"
   ]
  },
  {
   "cell_type": "code",
   "execution_count": null,
   "metadata": {},
   "outputs": [],
   "source": [
    "cp4 = ModelCheckpoint('../save/conv_model_standard/', save_best_only=True)\n",
    "early_stopping = tf.keras.callbacks.EarlyStopping(\n",
    "    monitor='val_loss',\n",
    "    patience=2,\n",
    "    mode='min'\n",
    ")\n",
    "conv_model.compile(loss=tf.keras.losses.MeanSquaredError(),\n",
    "                  optimizer=tf.keras.optimizers.Adam(learning_rate=0.001),\n",
    "                   metrics=[tf.keras.metrics.MeanAbsoluteError()])\n"
   ]
  },
  {
   "cell_type": "code",
   "execution_count": null,
   "metadata": {},
   "outputs": [],
   "source": [
    "history_3 = conv_model.fit(\n",
    "    train_generator, epochs=15,\n",
    "    validation_data=test_generator,\n",
    "    shuffle=False,\n",
    "    callbacks=[early_stopping, cp4])\n"
   ]
  },
  {
   "cell_type": "code",
   "execution_count": null,
   "metadata": {},
   "outputs": [],
   "source": [
    "from tensorflow.keras.models import load_model\n",
    "gru_model = load_model('../save/conv_model_standard/')\n"
   ]
  },
  {
   "cell_type": "code",
   "execution_count": null,
   "metadata": {},
   "outputs": [],
   "source": [
    "conv_eval = conv_model.evaluate(\n",
    "    test_generator, verbose=0\n",
    ")\n",
    "conv_eval\n",
    "val_performance['CONV'] = lstm_model.evaluate(train_generator)\n",
    "performance['CONV'] = lstm_model.evaluate(test_generator, verbose=0)\n"
   ]
  },
  {
   "cell_type": "code",
   "execution_count": null,
   "metadata": {},
   "outputs": [],
   "source": [
    "predictions_conv = conv_model.predict(test_generator)\n",
    "predictions_conv"
   ]
  },
  {
   "cell_type": "code",
   "execution_count": null,
   "metadata": {},
   "outputs": [],
   "source": [
    "df_pred_conv = pd.concat([pd.DataFrame(predictions_gru),\n",
    "                         pd.DataFrame(x_test[:, 1:][win_length:])], axis=1)\n",
    "df_pred_conv\n"
   ]
  },
  {
   "cell_type": "code",
   "execution_count": null,
   "metadata": {},
   "outputs": [],
   "source": [
    "# To the original format\n",
    "rev_trans_conv = scaler.inverse_transform(df_pred_conv)\n",
    "rev_trans_conv\n"
   ]
  },
  {
   "cell_type": "code",
   "execution_count": null,
   "metadata": {},
   "outputs": [],
   "source": [
    "df_final_conv = df_input[predictions_conv.shape[0]*-1:]\n"
   ]
  },
  {
   "cell_type": "code",
   "execution_count": null,
   "metadata": {},
   "outputs": [],
   "source": [
    "df_final_conv['Subcar_13_pred'] = rev_trans_conv[:, 1]\n",
    "df_final_conv\n"
   ]
  },
  {
   "cell_type": "code",
   "execution_count": null,
   "metadata": {},
   "outputs": [],
   "source": [
    "\n",
    "df_final_gru[['Subcar_13', 'Subcar_13_pred']]\n",
    "df_final_gru.index = date_time[:617]\n",
    "_ = df_final_gru.plot(subplots=False)\n",
    "plt.ylabel(\"Amplitude\", fontsize=20, fontweight='bold',\n",
    "           horizontalalignment='center')\n",
    "plt.xlabel(\"Time\", fontsize=20, fontweight='bold',\n",
    "           horizontalalignment='center')\n",
    "plt.xticks(fontsize=16)\n",
    "plt.yticks(fontsize=16)\n",
    "plt.legend(fontsize=15)\n",
    "plt.savefig('../images/lstm_curve_standard.pdf', dpi=500)\n",
    "\n",
    "df_final_gru[['Subcar_13', 'Subcar_13_pred']]\n",
    "df_final_gru.index = date_time[:617]\n",
    "_ = df_final_gru.plot(subplots=False)\n",
    "plt.ylabel(\"Amplitude\", fontsize=20, fontweight='bold',\n",
    "           horizontalalignment='center')\n",
    "plt.xlabel(\"Time\", fontsize=20, fontweight='bold',\n",
    "           horizontalalignment='center')\n",
    "plt.xticks(fontsize=16)\n",
    "plt.yticks(fontsize=16)\n",
    "plt.legend(fontsize=15)\n",
    "plt.savefig('../images/gru_curve_standard.pdf', dpi=500)\n",
    "\n",
    "df_final_conv[['Subcar_13', 'Subcar_13_pred']]\n",
    "df_final_conv.index = date_time[:617]\n",
    "_ = df_final_conv.plot(subplots=False)\n",
    "plt.ylabel(\"Amplitude\", fontsize=20, fontweight='bold',\n",
    "           horizontalalignment='center')\n",
    "plt.xlabel(\"Time\", fontsize=20, fontweight='bold',\n",
    "           horizontalalignment='center')\n",
    "plt.xticks(fontsize=16)\n",
    "plt.yticks(fontsize=16)\n",
    "plt.legend(fontsize=15)\n",
    "plt.savefig('../images/conv_curve_standard.pdf', dpi=500)\n"
   ]
  },
  {
   "cell_type": "code",
   "execution_count": null,
   "metadata": {},
   "outputs": [],
   "source": [
    "x = np.arange(len(performance))\n",
    "width = 0.3\n",
    "metric_name = 'mean_absolute_error'\n",
    "metric_index = lstm_model.metrics_names.index('mean_absolute_error')\n",
    "val_mae = [v[metric_index] for v in val_performance.values()]\n",
    "test_mae = [v[metric_index] for v in performance.values()]\n",
    "\n",
    "plt.ylabel('mean_absolute_error [Subcar_7), normalized]',\n",
    "           fontsize=16, fontweight='bold', horizontalalignment='center')\n",
    "plt.bar(x - 0.17, val_mae, width, label='Training')\n",
    "plt.bar(x + 0.17, test_mae, width, label='Testing')\n",
    "plt.xticks(ticks=x, labels=performance.keys(),\n",
    "           rotation=45, fontsize=16)\n",
    "plt.yticks(fontsize=16)\n",
    "_ = plt.legend(fontsize=16)\n",
    "plt.savefig('../images/bar_graph_standard.pdf', dpi=500)\n"
   ]
  },
  {
   "cell_type": "code",
   "execution_count": null,
   "metadata": {},
   "outputs": [],
   "source": [
    "for name, value in performance.items():\n",
    "  print(f'{name:12s}: {value[1]:0.4f}')\n"
   ]
  },
  {
   "cell_type": "code",
   "execution_count": null,
   "metadata": {},
   "outputs": [],
   "source": [
    "# df_final_conv[['Subcar_7', 'Subcar_7_pred']].plot()\n",
    "for name, value in val_performance.items():\n",
    "      print(f'{name:12s}: {value[1]:0.4f}')\n"
   ]
  },
  {
   "cell_type": "code",
   "execution_count": null,
   "metadata": {},
   "outputs": [],
   "source": [
    "\n"
   ]
  }
 ],
 "metadata": {
  "interpreter": {
   "hash": "8abc43b3d971bbbfe7bddad7665b0e853331231bc5daa59e6002e2c31ec46845"
  },
  "kernelspec": {
   "display_name": "Tensorflow210",
   "language": "python",
   "name": "python3"
  },
  "language_info": {
   "codemirror_mode": {
    "name": "ipython",
    "version": 3
   },
   "file_extension": ".py",
   "mimetype": "text/x-python",
   "name": "python",
   "nbconvert_exporter": "python",
   "pygments_lexer": "ipython3",
   "version": "3.7.9"
  },
  "orig_nbformat": 4
 },
 "nbformat": 4,
 "nbformat_minor": 2
}
