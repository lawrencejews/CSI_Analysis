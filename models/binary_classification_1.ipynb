{
 "cells": [
  {
   "cell_type": "code",
   "execution_count": 1,
   "metadata": {},
   "outputs": [
    {
     "name": "stderr",
     "output_type": "stream",
     "text": [
      "c:\\Users\\Owner\\anaconda3\\envs\\Tensorflow210\\lib\\site-packages\\numpy\\_distributor_init.py:32: UserWarning: loaded more than 1 DLL from .libs:\n",
      "c:\\Users\\Owner\\anaconda3\\envs\\Tensorflow210\\lib\\site-packages\\numpy\\.libs\\libopenblas.NOIJJG62EMASZI6NYURL6JBKM4EVBGM7.gfortran-win_amd64.dll\n",
      "c:\\Users\\Owner\\anaconda3\\envs\\Tensorflow210\\lib\\site-packages\\numpy\\.libs\\libopenblas.PYQHXLVVQ7VESDPUVUADXEVJOBGHJPAY.gfortran-win_amd64.dll\n",
      "c:\\Users\\Owner\\anaconda3\\envs\\Tensorflow210\\lib\\site-packages\\numpy\\.libs\\libopenblas.WCDJNK7YVMPZQ2ME2ZZHJJRJ3JIKNDB7.gfortran-win_amd64.dll\n",
      "  stacklevel=1)\n"
     ]
    }
   ],
   "source": [
    "import os\n",
    "import glob\n",
    "import csv\n",
    "\n",
    "import IPython\n",
    "import IPython.display\n",
    "import matplotlib as mpl\n",
    "import matplotlib.pyplot as plt\n",
    "import numpy as np\n",
    "import pandas as pd\n",
    "import seaborn as sns\n",
    "import tensorflow as tf\n",
    "from sklearn.preprocessing import MinMaxScaler, StandardScaler\n",
    "from sklearn.model_selection import train_test_split\n",
    "\n",
    "mpl.rcParams['figure.figsize'] = (20, 8)\n",
    "mpl.rcParams['axes.grid'] = False\n",
    "plt.style.use('seaborn-darkgrid')\n"
   ]
  },
  {
   "cell_type": "code",
   "execution_count": 8,
   "metadata": {},
   "outputs": [
    {
     "data": {
      "text/html": [
       "<div>\n",
       "<style scoped>\n",
       "    .dataframe tbody tr th:only-of-type {\n",
       "        vertical-align: middle;\n",
       "    }\n",
       "\n",
       "    .dataframe tbody tr th {\n",
       "        vertical-align: top;\n",
       "    }\n",
       "\n",
       "    .dataframe thead th {\n",
       "        text-align: right;\n",
       "    }\n",
       "</style>\n",
       "<table border=\"1\" class=\"dataframe\">\n",
       "  <thead>\n",
       "    <tr style=\"text-align: right;\">\n",
       "      <th></th>\n",
       "      <th>Time</th>\n",
       "      <th>Subcar_0</th>\n",
       "      <th>Subcar_1</th>\n",
       "      <th>Subcar_2</th>\n",
       "      <th>Subcar_3</th>\n",
       "      <th>Subcar_4</th>\n",
       "      <th>Subcar_5</th>\n",
       "      <th>Subcar_6</th>\n",
       "      <th>Subcar_7</th>\n",
       "      <th>Subcar_8</th>\n",
       "      <th>...</th>\n",
       "      <th>Subcar_55</th>\n",
       "      <th>Subcar_56</th>\n",
       "      <th>Subcar_57</th>\n",
       "      <th>Subcar_58</th>\n",
       "      <th>Subcar_59</th>\n",
       "      <th>Subcar_60</th>\n",
       "      <th>Subcar_61</th>\n",
       "      <th>Subcar_63</th>\n",
       "      <th>Subcar_64</th>\n",
       "      <th>Label</th>\n",
       "    </tr>\n",
       "  </thead>\n",
       "  <tbody>\n",
       "    <tr>\n",
       "      <th>0</th>\n",
       "      <td>1625554196</td>\n",
       "      <td>4343.04985</td>\n",
       "      <td>11583.1162</td>\n",
       "      <td>6556.174571</td>\n",
       "      <td>9442.766173</td>\n",
       "      <td>866.199169</td>\n",
       "      <td>887.929051</td>\n",
       "      <td>905.756038</td>\n",
       "      <td>904.191351</td>\n",
       "      <td>895.897874</td>\n",
       "      <td>...</td>\n",
       "      <td>223.647043</td>\n",
       "      <td>193.258894</td>\n",
       "      <td>175.889170</td>\n",
       "      <td>183.521116</td>\n",
       "      <td>182.912547</td>\n",
       "      <td>239.676866</td>\n",
       "      <td>312.078516</td>\n",
       "      <td>2146.567725</td>\n",
       "      <td>4778.184592</td>\n",
       "      <td>0</td>\n",
       "    </tr>\n",
       "    <tr>\n",
       "      <th>1</th>\n",
       "      <td>1625554197</td>\n",
       "      <td>4343.04985</td>\n",
       "      <td>11583.1162</td>\n",
       "      <td>6556.174571</td>\n",
       "      <td>9442.766173</td>\n",
       "      <td>840.401095</td>\n",
       "      <td>859.684826</td>\n",
       "      <td>886.599120</td>\n",
       "      <td>888.981440</td>\n",
       "      <td>879.275270</td>\n",
       "      <td>...</td>\n",
       "      <td>228.116198</td>\n",
       "      <td>205.805734</td>\n",
       "      <td>178.809955</td>\n",
       "      <td>191.083751</td>\n",
       "      <td>169.543505</td>\n",
       "      <td>230.412673</td>\n",
       "      <td>296.319085</td>\n",
       "      <td>2146.567725</td>\n",
       "      <td>4778.184592</td>\n",
       "      <td>0</td>\n",
       "    </tr>\n",
       "    <tr>\n",
       "      <th>2</th>\n",
       "      <td>1625554197</td>\n",
       "      <td>4343.04985</td>\n",
       "      <td>11583.1162</td>\n",
       "      <td>6556.174571</td>\n",
       "      <td>9442.766173</td>\n",
       "      <td>830.003614</td>\n",
       "      <td>846.435467</td>\n",
       "      <td>868.256299</td>\n",
       "      <td>857.184344</td>\n",
       "      <td>845.568448</td>\n",
       "      <td>...</td>\n",
       "      <td>189.928934</td>\n",
       "      <td>167.868997</td>\n",
       "      <td>162.003086</td>\n",
       "      <td>211.981131</td>\n",
       "      <td>199.251098</td>\n",
       "      <td>175.635987</td>\n",
       "      <td>157.848028</td>\n",
       "      <td>2146.567725</td>\n",
       "      <td>4778.184592</td>\n",
       "      <td>0</td>\n",
       "    </tr>\n",
       "    <tr>\n",
       "      <th>3</th>\n",
       "      <td>1625554197</td>\n",
       "      <td>4343.04985</td>\n",
       "      <td>11583.1162</td>\n",
       "      <td>6556.174571</td>\n",
       "      <td>9442.766173</td>\n",
       "      <td>799.115761</td>\n",
       "      <td>837.195915</td>\n",
       "      <td>884.864961</td>\n",
       "      <td>890.982043</td>\n",
       "      <td>900.568709</td>\n",
       "      <td>...</td>\n",
       "      <td>270.248034</td>\n",
       "      <td>249.064249</td>\n",
       "      <td>227.369743</td>\n",
       "      <td>131.552271</td>\n",
       "      <td>113.137085</td>\n",
       "      <td>92.070625</td>\n",
       "      <td>85.000000</td>\n",
       "      <td>2146.567725</td>\n",
       "      <td>4778.184592</td>\n",
       "      <td>0</td>\n",
       "    </tr>\n",
       "    <tr>\n",
       "      <th>4</th>\n",
       "      <td>1625554197</td>\n",
       "      <td>4343.04985</td>\n",
       "      <td>11583.1162</td>\n",
       "      <td>6556.174571</td>\n",
       "      <td>9442.766173</td>\n",
       "      <td>864.070020</td>\n",
       "      <td>884.672256</td>\n",
       "      <td>910.140648</td>\n",
       "      <td>897.427434</td>\n",
       "      <td>899.608804</td>\n",
       "      <td>...</td>\n",
       "      <td>209.570990</td>\n",
       "      <td>179.044687</td>\n",
       "      <td>159.765453</td>\n",
       "      <td>195.473783</td>\n",
       "      <td>181.796590</td>\n",
       "      <td>174.977141</td>\n",
       "      <td>179.426865</td>\n",
       "      <td>2146.567725</td>\n",
       "      <td>4778.184592</td>\n",
       "      <td>0</td>\n",
       "    </tr>\n",
       "  </tbody>\n",
       "</table>\n",
       "<p>5 rows × 65 columns</p>\n",
       "</div>"
      ],
      "text/plain": [
       "         Time    Subcar_0    Subcar_1     Subcar_2     Subcar_3    Subcar_4  \\\n",
       "0  1625554196  4343.04985  11583.1162  6556.174571  9442.766173  866.199169   \n",
       "1  1625554197  4343.04985  11583.1162  6556.174571  9442.766173  840.401095   \n",
       "2  1625554197  4343.04985  11583.1162  6556.174571  9442.766173  830.003614   \n",
       "3  1625554197  4343.04985  11583.1162  6556.174571  9442.766173  799.115761   \n",
       "4  1625554197  4343.04985  11583.1162  6556.174571  9442.766173  864.070020   \n",
       "\n",
       "     Subcar_5    Subcar_6    Subcar_7    Subcar_8  ...   Subcar_55  \\\n",
       "0  887.929051  905.756038  904.191351  895.897874  ...  223.647043   \n",
       "1  859.684826  886.599120  888.981440  879.275270  ...  228.116198   \n",
       "2  846.435467  868.256299  857.184344  845.568448  ...  189.928934   \n",
       "3  837.195915  884.864961  890.982043  900.568709  ...  270.248034   \n",
       "4  884.672256  910.140648  897.427434  899.608804  ...  209.570990   \n",
       "\n",
       "    Subcar_56   Subcar_57   Subcar_58   Subcar_59   Subcar_60   Subcar_61  \\\n",
       "0  193.258894  175.889170  183.521116  182.912547  239.676866  312.078516   \n",
       "1  205.805734  178.809955  191.083751  169.543505  230.412673  296.319085   \n",
       "2  167.868997  162.003086  211.981131  199.251098  175.635987  157.848028   \n",
       "3  249.064249  227.369743  131.552271  113.137085   92.070625   85.000000   \n",
       "4  179.044687  159.765453  195.473783  181.796590  174.977141  179.426865   \n",
       "\n",
       "     Subcar_63    Subcar_64  Label  \n",
       "0  2146.567725  4778.184592      0  \n",
       "1  2146.567725  4778.184592      0  \n",
       "2  2146.567725  4778.184592      0  \n",
       "3  2146.567725  4778.184592      0  \n",
       "4  2146.567725  4778.184592      0  \n",
       "\n",
       "[5 rows x 65 columns]"
      ]
     },
     "execution_count": 8,
     "metadata": {},
     "output_type": "execute_result"
    }
   ],
   "source": [
    "data_2 = pd.read_csv('../output/train_outputs.csv')\n",
    "# checking our dataframe once again\n",
    "data_2 = data_2.drop([data_2.columns[0]], axis='columns')\n",
    "data_2.head()\n"
   ]
  },
  {
   "cell_type": "code",
   "execution_count": 9,
   "metadata": {},
   "outputs": [],
   "source": [
    "X_data = data_2.iloc[:, 1:]\n",
    "target = data_2.iloc[:,-1]\n"
   ]
  },
  {
   "cell_type": "code",
   "execution_count": 10,
   "metadata": {},
   "outputs": [
    {
     "name": "stdout",
     "output_type": "stream",
     "text": [
      "X_train.shape:  (876, 64)\n",
      "X_valid.shape:  (219, 64)\n"
     ]
    }
   ],
   "source": [
    "x_train, x_valid, y_train, y_valid = train_test_split(\n",
    "    X_data, target, test_size=0.20, random_state=120, shuffle=False)  # false for timeseries\n",
    "print('X_train.shape: ', x_train.shape)\n",
    "print('X_valid.shape: ', x_valid.shape)\n"
   ]
  },
  {
   "cell_type": "code",
   "execution_count": null,
   "metadata": {},
   "outputs": [],
   "source": [
    "# Scaling\n",
    "# scaler = MinMaxScaler()\n",
    "# data_scaled = scaler.fit_transform(X_data)\n",
    "# data_scaled\n",
    "# print(data_scaled)\n",
    "standardizer = StandardScaler()\n",
    "data_scaled = standardizer.fit_transform(X_data)\n",
    "data_scaled\n",
    "print(data_scaled)\n"
   ]
  },
  {
   "cell_type": "code",
   "execution_count": null,
   "metadata": {},
   "outputs": [],
   "source": [
    "x_test_scaled = standardizer.transform(x_valid)\n",
    "x_test_scaled\n"
   ]
  },
  {
   "cell_type": "code",
   "execution_count": null,
   "metadata": {},
   "outputs": [],
   "source": [
    "model = tf.keras.Sequential([\n",
    "    tf.keras.layers.Dense(128, kernel_regularizer='l2', dtype='float32'),\n",
    "    tf.keras.layers.LeakyReLU(alpha=0.5),\n",
    "    tf.keras.layers.Dense(256, kernel_regularizer='l2', dtype='float32'),\n",
    "    tf.keras.layers.LeakyReLU(alpha=0.5),\n",
    "    tf.keras.layers.Dense(256, kernel_regularizer='l2', dtype='float32'),\n",
    "    tf.keras.layers.LeakyReLU(alpha=0.5),\n",
    "    tf.keras.layers.Dense(1, activation='sigmoid', dtype='float64')\n",
    "])\n"
   ]
  },
  {
   "cell_type": "code",
   "execution_count": null,
   "metadata": {},
   "outputs": [],
   "source": [
    "model.compile(\n",
    "    loss=tf.keras.losses.binary_crossentropy,\n",
    "    optimizer=tf.keras.optimizers.Adam(lr=0.001),\n",
    "    metrics=[\n",
    "        tf.keras.metrics.BinaryAccuracy(name='accuracy'),\n",
    "        tf.keras.metrics.Precision(name='precision'),\n",
    "        tf.keras.metrics.Recall(name='recall')\n",
    "    ]\n",
    ")\n"
   ]
  },
  {
   "cell_type": "code",
   "execution_count": null,
   "metadata": {},
   "outputs": [],
   "source": [
    "history = model.fit(x_train, y_train, validation_data=(x_valid, y_valid), epochs=20, batch_size=10)\n"
   ]
  },
  {
   "cell_type": "code",
   "execution_count": null,
   "metadata": {},
   "outputs": [],
   "source": [
    "history.history.keys()"
   ]
  },
  {
   "cell_type": "code",
   "execution_count": null,
   "metadata": {},
   "outputs": [],
   "source": [
    "def vis(history, name):\n",
    "    plt.title(f\"{name.upper()}\", fontsize=13)\n",
    "    plt.xlabel('epochs', fontsize=20)\n",
    "    plt.ylabel(f\"{name.lower()}\", fontsize=20)\n",
    "    plt.xticks(fontsize=20)\n",
    "    plt.yticks(fontsize=20)\n",
    "    value = history.history.get(name)\n",
    "    val_value = history.history.get(f\"val_{name}\", None)\n",
    "    epochs = range(1, len(value)+1)\n",
    "    plt.plot(epochs, value, 'b-', label=f'training {name}')\n",
    "    if val_value is not None:\n",
    "        plt.plot(epochs, val_value, 'r:', label=f'validation {name}')\n",
    "    plt.legend(loc='upper center', bbox_to_anchor=(\n",
    "        0.05, 1.2), fontsize=16, ncol=1)\n",
    "\n",
    "\n",
    "def plot_history(history):\n",
    "    key_value = list(set([i.split(\"val_\")[-1]\n",
    "                     for i in list(history.history.keys())]))\n",
    "    plt.figure(figsize=(20, 8))\n",
    "    for idx, key in enumerate(key_value):\n",
    "        plt.subplot(1, len(key_value), idx+1)\n",
    "        vis(history, key)\n",
    "    plt.tight_layout()\n",
    "    plt.show()"
   ]
  },
  {
   "cell_type": "code",
   "execution_count": null,
   "metadata": {},
   "outputs": [],
   "source": [
    "plot_history(history)"
   ]
  },
  {
   "cell_type": "code",
   "execution_count": null,
   "metadata": {},
   "outputs": [],
   "source": [
    "plt.plot(\n",
    "    np.arange(1, 21),\n",
    "    history.history['loss'], label='Loss'\n",
    ")\n",
    "plt.plot(\n",
    "    np.arange(1, 21),\n",
    "    history.history['accuracy'], label='Accuracy'\n",
    ")\n",
    "plt.plot(\n",
    "    np.arange(1, 21),\n",
    "    history.history['precision'], label='Precision'\n",
    ")\n",
    "plt.plot(\n",
    "    np.arange(1, 21),\n",
    "    history.history['recall'], label='Recall'\n",
    ")\n",
    "plt.title('Evaluation metrics', size=20)\n",
    "plt.xlabel('Epoch', size=14)\n",
    "plt.legend()\n"
   ]
  },
  {
   "cell_type": "code",
   "execution_count": null,
   "metadata": {},
   "outputs": [],
   "source": [
    "predictions = model.predict(x_test_scaled)\n"
   ]
  },
  {
   "cell_type": "code",
   "execution_count": null,
   "metadata": {},
   "outputs": [],
   "source": [
    "prediction_classes = [\n",
    "    1 if prob > 0.5 else 0 for prob in np.ravel(predictions)\n",
    "]\n"
   ]
  },
  {
   "cell_type": "code",
   "execution_count": null,
   "metadata": {},
   "outputs": [],
   "source": [
    "from sklearn.metrics import confusion_matrix\n",
    "\n",
    "print(confusion_matrix(y_valid, prediction_classes))\n"
   ]
  },
  {
   "cell_type": "code",
   "execution_count": null,
   "metadata": {},
   "outputs": [],
   "source": [
    "from sklearn.metrics import accuracy_score, precision_score, recall_score\n",
    "\n",
    "print(f'Accuracy: {accuracy_score(y_valid, prediction_classes):.2f}')\n",
    "print(f'Precision: {precision_score(y_valid, prediction_classes):.2f}')\n",
    "print(f'Recall: {recall_score(y_valid, prediction_classes):.2f}')\n"
   ]
  },
  {
   "cell_type": "code",
   "execution_count": null,
   "metadata": {},
   "outputs": [],
   "source": [
    "x_train = x_train.values.reshape(876,64, 1)\n",
    "x_valid = x_valid.values.reshape(219,64, 1)\n",
    "print('X_train.shape: ', x_train.shape)\n",
    "print('X_test.shape: ', x_valid.shape)"
   ]
  },
  {
   "cell_type": "code",
   "execution_count": null,
   "metadata": {},
   "outputs": [],
   "source": [
    "# Set up parameters\n",
    "n_steps = 64\n",
    "n_features = 1\n",
    "epochs = 20\n",
    "\n",
    "# Create a traditional RNN network\n",
    "model = tf.keras.Sequential()\n",
    "model.add(tf.keras.layers.LSTM(64, input_shape=(n_steps, n_features),kernel_regularizer='l2',  return_sequences=True,))\n",
    "model.add(tf.keras.layers.LeakyReLU(alpha=0.5))\n",
    "model.add(tf.keras.layers.Dense(32, kernel_regularizer='l2', dtype='float32'))\n",
    "model.add(tf.keras.layers.LeakyReLU(alpha=0.5))\n",
    "model.add(tf.keras.layers.Dense(1, activation='sigmoid', dtype='float32'))\n",
    "model.summary()\n"
   ]
  },
  {
   "cell_type": "code",
   "execution_count": null,
   "metadata": {},
   "outputs": [],
   "source": [
    "model.compile(optimizer=tf.keras.optimizers.Adam(lr=0.001),\n",
    "              loss='mse', metrics=['accuracy'])\n"
   ]
  },
  {
   "cell_type": "code",
   "execution_count": null,
   "metadata": {},
   "outputs": [],
   "source": [
    "model_RNN = model.fit(x_train, y_train, validation_data=(x_valid, y_valid), epochs=20, batch_size=10)\n"
   ]
  },
  {
   "cell_type": "code",
   "execution_count": null,
   "metadata": {},
   "outputs": [],
   "source": [
    "model_RNN.history.keys()"
   ]
  },
  {
   "cell_type": "code",
   "execution_count": null,
   "metadata": {},
   "outputs": [],
   "source": [
    "(loss, accuracy) = model.evaluate(x_valid, y_valid, verbose=1)"
   ]
  },
  {
   "cell_type": "code",
   "execution_count": null,
   "metadata": {},
   "outputs": [],
   "source": [
    "plot_history(model_RNN)\n",
    "    "
   ]
  },
  {
   "cell_type": "code",
   "execution_count": null,
   "metadata": {},
   "outputs": [],
   "source": []
  }
 ],
 "metadata": {
  "interpreter": {
   "hash": "e5590d44beff43117c1b89930955d6d834e51e37ef960ee34b851469ca06d380"
  },
  "kernelspec": {
   "display_name": "Python 3.7.9 ('Tensorflow210')",
   "language": "python",
   "name": "python3"
  },
  "language_info": {
   "codemirror_mode": {
    "name": "ipython",
    "version": 3
   },
   "file_extension": ".py",
   "mimetype": "text/x-python",
   "name": "python",
   "nbconvert_exporter": "python",
   "pygments_lexer": "ipython3",
   "version": "3.7.9"
  },
  "orig_nbformat": 4
 },
 "nbformat": 4,
 "nbformat_minor": 2
}
