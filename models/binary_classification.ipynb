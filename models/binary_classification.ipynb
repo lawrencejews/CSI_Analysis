{
 "cells": [
  {
   "cell_type": "code",
   "execution_count": 1,
   "metadata": {},
   "outputs": [
    {
     "name": "stderr",
     "output_type": "stream",
     "text": [
      "C:\\Users\\Owner\\anaconda3\\envs\\Tensorflow210\\lib\\site-packages\\numpy\\_distributor_init.py:32: UserWarning: loaded more than 1 DLL from .libs:\n",
      "C:\\Users\\Owner\\anaconda3\\envs\\Tensorflow210\\lib\\site-packages\\numpy\\.libs\\libopenblas.NOIJJG62EMASZI6NYURL6JBKM4EVBGM7.gfortran-win_amd64.dll\n",
      "C:\\Users\\Owner\\anaconda3\\envs\\Tensorflow210\\lib\\site-packages\\numpy\\.libs\\libopenblas.PYQHXLVVQ7VESDPUVUADXEVJOBGHJPAY.gfortran-win_amd64.dll\n",
      "C:\\Users\\Owner\\anaconda3\\envs\\Tensorflow210\\lib\\site-packages\\numpy\\.libs\\libopenblas.WCDJNK7YVMPZQ2ME2ZZHJJRJ3JIKNDB7.gfortran-win_amd64.dll\n",
      "  stacklevel=1)\n"
     ]
    }
   ],
   "source": [
    "import os\n",
    "import glob\n",
    "import csv\n",
    "\n",
    "import IPython\n",
    "import IPython.display\n",
    "import matplotlib as mpl\n",
    "import matplotlib.pyplot as plt\n",
    "import numpy as np\n",
    "import pandas as pd\n",
    "import seaborn as sns\n",
    "import tensorflow as tf\n",
    "from sklearn.preprocessing import MinMaxScaler, StandardScaler\n",
    "from sklearn.model_selection import train_test_split\n",
    "\n",
    "mpl.rcParams['figure.figsize'] = (20, 8)\n",
    "mpl.rcParams['axes.grid'] = False\n",
    "plt.style.use('seaborn-darkgrid')"
   ]
  },
  {
   "cell_type": "code",
   "execution_count": 2,
   "metadata": {},
   "outputs": [
    {
     "data": {
      "text/html": [
       "<div>\n",
       "<style scoped>\n",
       "    .dataframe tbody tr th:only-of-type {\n",
       "        vertical-align: middle;\n",
       "    }\n",
       "\n",
       "    .dataframe tbody tr th {\n",
       "        vertical-align: top;\n",
       "    }\n",
       "\n",
       "    .dataframe thead th {\n",
       "        text-align: right;\n",
       "    }\n",
       "</style>\n",
       "<table border=\"1\" class=\"dataframe\">\n",
       "  <thead>\n",
       "    <tr style=\"text-align: right;\">\n",
       "      <th></th>\n",
       "      <th>sub1</th>\n",
       "      <th>sub2</th>\n",
       "      <th>sub3</th>\n",
       "      <th>sub4</th>\n",
       "      <th>sub5</th>\n",
       "      <th>sub6</th>\n",
       "      <th>sub7</th>\n",
       "      <th>sub8</th>\n",
       "      <th>sub9</th>\n",
       "      <th>sub10</th>\n",
       "      <th>...</th>\n",
       "      <th>sub22</th>\n",
       "      <th>sub23</th>\n",
       "      <th>sub24</th>\n",
       "      <th>sub25</th>\n",
       "      <th>sub26</th>\n",
       "      <th>sub27</th>\n",
       "      <th>sub28</th>\n",
       "      <th>sub29</th>\n",
       "      <th>sub30</th>\n",
       "      <th>label</th>\n",
       "    </tr>\n",
       "  </thead>\n",
       "  <tbody>\n",
       "    <tr>\n",
       "      <th>0</th>\n",
       "      <td>21.095023</td>\n",
       "      <td>26.305893</td>\n",
       "      <td>29.068884</td>\n",
       "      <td>30.000000</td>\n",
       "      <td>31.827661</td>\n",
       "      <td>32.000000</td>\n",
       "      <td>33.301652</td>\n",
       "      <td>32.140317</td>\n",
       "      <td>33.015148</td>\n",
       "      <td>33.955854</td>\n",
       "      <td>...</td>\n",
       "      <td>33.241540</td>\n",
       "      <td>33.301652</td>\n",
       "      <td>33.060551</td>\n",
       "      <td>31.144823</td>\n",
       "      <td>30.066593</td>\n",
       "      <td>28.425341</td>\n",
       "      <td>26.476405</td>\n",
       "      <td>22.825424</td>\n",
       "      <td>19.104973</td>\n",
       "      <td>0</td>\n",
       "    </tr>\n",
       "    <tr>\n",
       "      <th>1</th>\n",
       "      <td>18.384776</td>\n",
       "      <td>23.769729</td>\n",
       "      <td>25.495098</td>\n",
       "      <td>27.073973</td>\n",
       "      <td>28.017851</td>\n",
       "      <td>28.861739</td>\n",
       "      <td>29.154759</td>\n",
       "      <td>29.410882</td>\n",
       "      <td>29.068884</td>\n",
       "      <td>29.410882</td>\n",
       "      <td>...</td>\n",
       "      <td>30.066593</td>\n",
       "      <td>30.479501</td>\n",
       "      <td>30.265492</td>\n",
       "      <td>28.017851</td>\n",
       "      <td>26.925824</td>\n",
       "      <td>26.000000</td>\n",
       "      <td>23.853721</td>\n",
       "      <td>21.023796</td>\n",
       "      <td>17.464249</td>\n",
       "      <td>0</td>\n",
       "    </tr>\n",
       "    <tr>\n",
       "      <th>2</th>\n",
       "      <td>20.615528</td>\n",
       "      <td>26.019224</td>\n",
       "      <td>28.017851</td>\n",
       "      <td>30.083218</td>\n",
       "      <td>31.304952</td>\n",
       "      <td>32.310989</td>\n",
       "      <td>33.105891</td>\n",
       "      <td>32.893768</td>\n",
       "      <td>34.885527</td>\n",
       "      <td>34.205263</td>\n",
       "      <td>...</td>\n",
       "      <td>33.105891</td>\n",
       "      <td>31.953091</td>\n",
       "      <td>31.780497</td>\n",
       "      <td>31.384710</td>\n",
       "      <td>28.792360</td>\n",
       "      <td>28.301943</td>\n",
       "      <td>27.294688</td>\n",
       "      <td>22.627417</td>\n",
       "      <td>20.248457</td>\n",
       "      <td>0</td>\n",
       "    </tr>\n",
       "    <tr>\n",
       "      <th>3</th>\n",
       "      <td>20.808652</td>\n",
       "      <td>27.073973</td>\n",
       "      <td>29.068884</td>\n",
       "      <td>30.413813</td>\n",
       "      <td>31.906112</td>\n",
       "      <td>32.984845</td>\n",
       "      <td>32.449961</td>\n",
       "      <td>33.734256</td>\n",
       "      <td>34.409301</td>\n",
       "      <td>34.234486</td>\n",
       "      <td>...</td>\n",
       "      <td>33.421550</td>\n",
       "      <td>33.136083</td>\n",
       "      <td>33.421550</td>\n",
       "      <td>31.256999</td>\n",
       "      <td>30.805844</td>\n",
       "      <td>29.120440</td>\n",
       "      <td>26.400758</td>\n",
       "      <td>23.706539</td>\n",
       "      <td>20.000000</td>\n",
       "      <td>0</td>\n",
       "    </tr>\n",
       "    <tr>\n",
       "      <th>4</th>\n",
       "      <td>21.095023</td>\n",
       "      <td>26.305893</td>\n",
       "      <td>29.000000</td>\n",
       "      <td>30.149627</td>\n",
       "      <td>31.622777</td>\n",
       "      <td>32.557641</td>\n",
       "      <td>33.837849</td>\n",
       "      <td>33.541020</td>\n",
       "      <td>33.600595</td>\n",
       "      <td>34.234486</td>\n",
       "      <td>...</td>\n",
       "      <td>33.015148</td>\n",
       "      <td>32.388269</td>\n",
       "      <td>33.015148</td>\n",
       "      <td>31.400637</td>\n",
       "      <td>29.681644</td>\n",
       "      <td>28.460499</td>\n",
       "      <td>26.570661</td>\n",
       "      <td>22.472205</td>\n",
       "      <td>19.723083</td>\n",
       "      <td>0</td>\n",
       "    </tr>\n",
       "  </tbody>\n",
       "</table>\n",
       "<p>5 rows × 31 columns</p>\n",
       "</div>"
      ],
      "text/plain": [
       "        sub1       sub2       sub3       sub4       sub5       sub6  \\\n",
       "0  21.095023  26.305893  29.068884  30.000000  31.827661  32.000000   \n",
       "1  18.384776  23.769729  25.495098  27.073973  28.017851  28.861739   \n",
       "2  20.615528  26.019224  28.017851  30.083218  31.304952  32.310989   \n",
       "3  20.808652  27.073973  29.068884  30.413813  31.906112  32.984845   \n",
       "4  21.095023  26.305893  29.000000  30.149627  31.622777  32.557641   \n",
       "\n",
       "        sub7       sub8       sub9      sub10  ...      sub22      sub23  \\\n",
       "0  33.301652  32.140317  33.015148  33.955854  ...  33.241540  33.301652   \n",
       "1  29.154759  29.410882  29.068884  29.410882  ...  30.066593  30.479501   \n",
       "2  33.105891  32.893768  34.885527  34.205263  ...  33.105891  31.953091   \n",
       "3  32.449961  33.734256  34.409301  34.234486  ...  33.421550  33.136083   \n",
       "4  33.837849  33.541020  33.600595  34.234486  ...  33.015148  32.388269   \n",
       "\n",
       "       sub24      sub25      sub26      sub27      sub28      sub29  \\\n",
       "0  33.060551  31.144823  30.066593  28.425341  26.476405  22.825424   \n",
       "1  30.265492  28.017851  26.925824  26.000000  23.853721  21.023796   \n",
       "2  31.780497  31.384710  28.792360  28.301943  27.294688  22.627417   \n",
       "3  33.421550  31.256999  30.805844  29.120440  26.400758  23.706539   \n",
       "4  33.015148  31.400637  29.681644  28.460499  26.570661  22.472205   \n",
       "\n",
       "       sub30  label  \n",
       "0  19.104973      0  \n",
       "1  17.464249      0  \n",
       "2  20.248457      0  \n",
       "3  20.000000      0  \n",
       "4  19.723083      0  \n",
       "\n",
       "[5 rows x 31 columns]"
      ]
     },
     "execution_count": 2,
     "metadata": {},
     "output_type": "execute_result"
    }
   ],
   "source": [
    "data_2 = pd.read_csv('../output/csi_data.csv')\n",
    "# checking our dataframe once again\n",
    "data_2 = data_2.drop([data_2.columns[0]], axis='columns')\n",
    "data_2.head()"
   ]
  },
  {
   "cell_type": "code",
   "execution_count": 3,
   "metadata": {},
   "outputs": [],
   "source": [
    "X_scaled = data_2.iloc[:, 1:]\n",
    "target = data_2.iloc[:,-1]"
   ]
  },
  {
   "cell_type": "code",
   "execution_count": 4,
   "metadata": {},
   "outputs": [
    {
     "name": "stdout",
     "output_type": "stream",
     "text": [
      "[[0.43271925 0.49498833 0.48492583 ... 0.24133966 0.28960229 0.        ]\n",
      " [0.38935199 0.43196543 0.43599803 ... 0.22229053 0.26473141 0.        ]\n",
      " [0.42781733 0.47645362 0.48631736 ... 0.23924607 0.30693576 0.        ]\n",
      " ...\n",
      " [0.42781733 0.4726626  0.46211161 ... 0.28371094 0.34897434 0.        ]\n",
      " [0.42418799 0.45980853 0.45682696 ... 0.26956686 0.34566645 0.        ]\n",
      " [0.43466512 0.48021577 0.46473218 ... 0.27429466 0.33348648 0.        ]]\n"
     ]
    }
   ],
   "source": [
    "# Scaling\n",
    "scaler = MinMaxScaler()\n",
    "data_scaled = scaler.fit_transform(X_scaled)\n",
    "data_scaled\n",
    "print(data_scaled)\n",
    "\n",
    "# standardizer = StandardScaler()\n",
    "# data_scaled = standardizer.fit_transform(data_2)\n",
    "# data_scaled\n",
    "# print(data_scaled)\n"
   ]
  },
  {
   "cell_type": "code",
   "execution_count": 5,
   "metadata": {},
   "outputs": [],
   "source": [
    "from sklearn.preprocessing import LabelEncoder\n",
    "\n",
    "label_encoder = LabelEncoder()\n",
    "target = label_encoder.fit_transform(target)\n"
   ]
  },
  {
   "cell_type": "code",
   "execution_count": 6,
   "metadata": {},
   "outputs": [
    {
     "name": "stdout",
     "output_type": "stream",
     "text": [
      "X_train.shape:  (838860, 30)\n",
      "X_test.shape:  (209715, 30)\n"
     ]
    }
   ],
   "source": [
    "x_train, x_test, y_train, y_test = train_test_split( data_scaled, target, test_size=0.20, random_state=120, shuffle=False)  # false for timeseries\n",
    "print('X_train.shape: ', x_train.shape)\n",
    "print('X_test.shape: ', x_test.shape)\n"
   ]
  },
  {
   "cell_type": "code",
   "execution_count": 7,
   "metadata": {},
   "outputs": [
    {
     "data": {
      "text/plain": [
       "LogisticRegression()"
      ]
     },
     "execution_count": 7,
     "metadata": {},
     "output_type": "execute_result"
    }
   ],
   "source": [
    "from sklearn.linear_model import LogisticRegression\n",
    "clf = LogisticRegression()\n",
    "# training the model\n",
    "clf.fit(x_train, y_train)"
   ]
  },
  {
   "cell_type": "code",
   "execution_count": 8,
   "metadata": {},
   "outputs": [],
   "source": [
    "y_pred = clf.predict(x_test)\n"
   ]
  },
  {
   "cell_type": "code",
   "execution_count": 9,
   "metadata": {},
   "outputs": [
    {
     "name": "stdout",
     "output_type": "stream",
     "text": [
      "Accuracy: 100.00%\n"
     ]
    }
   ],
   "source": [
    "from sklearn.metrics import accuracy_score\n",
    "accuracy = accuracy_score(y_test, y_pred)\n",
    "print(\"Accuracy: {:.2f}%\".format(accuracy * 100))"
   ]
  },
  {
   "cell_type": "code",
   "execution_count": 10,
   "metadata": {},
   "outputs": [
    {
     "name": "stderr",
     "output_type": "stream",
     "text": [
      "No handles with labels found to put in legend.\n"
     ]
    },
    {
     "data": {
      "text/plain": [
       "<matplotlib.legend.Legend at 0x29c6a91e5c8>"
      ]
     },
     "execution_count": 10,
     "metadata": {},
     "output_type": "execute_result"
    },
    {
     "data": {
      "image/png": "[encoded data removed]",
      "text/plain": [
       "<Figure size 1440x576 with 2 Axes>"
      ]
     },
     "metadata": {},
     "output_type": "display_data"
    }
   ],
   "source": [
    "from sklearn.metrics import confusion_matrix\n",
    "cm = confusion_matrix(y_test, y_pred)\n",
    "plt.figure()\n",
    "sns.heatmap(cm, annot=True )\n",
    "plt.xlabel('Prediction', fontsize=20, fontweight='bold',\n",
    "           horizontalalignment='center')\n",
    "plt.ylabel('Target', fontsize=20, fontweight='bold',\n",
    "           horizontalalignment='center')\n",
    "plt.title('Confusion Matrix', fontsize=20, fontweight='bold',\n",
    "          horizontalalignment='center')\n",
    "plt.xticks(fontsize=16)\n",
    "plt.yticks(fontsize=16)\n",
    "plt.legend(fontsize=13)\n"
   ]
  },
  {
   "cell_type": "code",
   "execution_count": 11,
   "metadata": {},
   "outputs": [
    {
     "name": "stdout",
     "output_type": "stream",
     "text": [
      "True Positive(TP)  =  49150\n",
      "False Positive(FP) =  0\n",
      "True Negative(TN)  =  160565\n",
      "False Negative(FN) =  0\n",
      "Accuracy of the binary classification = 1.000\n"
     ]
    }
   ],
   "source": [
    "from sklearn.metrics import confusion_matrix\n",
    "\n",
    "cm = confusion_matrix(y_test, y_pred)\n",
    "\n",
    "TN, FP, FN, TP = confusion_matrix(y_test, y_pred).ravel()\n",
    "\n",
    "print('True Positive(TP)  = ', TP)\n",
    "print('False Positive(FP) = ', FP)\n",
    "print('True Negative(TN)  = ', TN)\n",
    "print('False Negative(FN) = ', FN)\n",
    "\n",
    "accuracy = (TP+TN) / (TP+FP+TN+FN)\n",
    "\n",
    "print('Accuracy of the binary classification = {:0.3f}'.format(accuracy))\n"
   ]
  },
  {
   "cell_type": "code",
   "execution_count": 12,
   "metadata": {},
   "outputs": [],
   "source": [
    "from sklearn.neighbors import KNeighborsClassifier\n",
    "from sklearn.naive_bayes import GaussianNB\n",
    "from sklearn.ensemble import RandomForestClassifier\n",
    "from sklearn.tree import DecisionTreeClassifier\n",
    "from sklearn.svm import LinearSVC\n",
    "from sklearn.linear_model import LogisticRegression\n",
    "\n",
    "models = {}\n",
    "\n",
    "# Logistic Regression\n",
    "models['Logistic Regression'] = LogisticRegression(C=1.0, class_weight='balanced', dual=False, random_state=1)\n",
    "\n",
    "# Support Vector Machines\n",
    "models['Support Vector Machines'] = LinearSVC(C = 0.1, loss='hinge', max_iter=10000, random_state=1)\n",
    "\n",
    "# Decision Trees\n",
    "models['Decision Trees'] = DecisionTreeClassifier( random_state=1)\n",
    "\n",
    "# Random Forest\n",
    "models['Random Forest'] = RandomForestClassifier(\n",
    "    n_estimators=100, random_state=1)\n",
    "\n",
    "# Naive Bayes\n",
    "models['Naive Bayes'] = GaussianNB()\n",
    "\n",
    "# K-Nearest Neighbors\n",
    "models['K-Nearest Neighbor'] = KNeighborsClassifier(algorithm='auto',\n",
    "                                                    leaf_size=30,\n",
    "                                                    metric='minkowski',\n",
    "                                                    metric_params=None,\n",
    "                                                    n_jobs=1,\n",
    "                                                    n_neighbors=5,\n",
    "                                                    p=2,)\n"
   ]
  },
  {
   "cell_type": "code",
   "execution_count": 13,
   "metadata": {},
   "outputs": [],
   "source": [
    "from sklearn.metrics import accuracy_score, precision_score, recall_score\n",
    "\n",
    "accuracy, precision, recall = {}, {}, {}\n",
    "\n",
    "for key in models.keys():\n",
    "\n",
    "    # Fit the classifier model\n",
    "    models[key].fit(x_train, y_train)\n",
    "\n",
    "    # Prediction\n",
    "    predictions = models[key].predict(x_test)\n",
    "\n",
    "    # Calculate Accuracy, Precision and Recall Metrics\n",
    "    accuracy[key] = accuracy_score(predictions, y_test)\n",
    "    precision[key] = precision_score(predictions, y_test)\n",
    "    recall[key] = recall_score(predictions, y_test)\n"
   ]
  },
  {
   "cell_type": "code",
   "execution_count": 14,
   "metadata": {},
   "outputs": [
    {
     "data": {
      "text/html": [
       "<div>\n",
       "<style scoped>\n",
       "    .dataframe tbody tr th:only-of-type {\n",
       "        vertical-align: middle;\n",
       "    }\n",
       "\n",
       "    .dataframe tbody tr th {\n",
       "        vertical-align: top;\n",
       "    }\n",
       "\n",
       "    .dataframe thead th {\n",
       "        text-align: right;\n",
       "    }\n",
       "</style>\n",
       "<table border=\"1\" class=\"dataframe\">\n",
       "  <thead>\n",
       "    <tr style=\"text-align: right;\">\n",
       "      <th></th>\n",
       "      <th>Accuracy</th>\n",
       "      <th>Precision</th>\n",
       "      <th>Recall</th>\n",
       "    </tr>\n",
       "  </thead>\n",
       "  <tbody>\n",
       "    <tr>\n",
       "      <th>Logistic Regression</th>\n",
       "      <td>1.0</td>\n",
       "      <td>1.0</td>\n",
       "      <td>1.0</td>\n",
       "    </tr>\n",
       "    <tr>\n",
       "      <th>Support Vector Machines</th>\n",
       "      <td>1.0</td>\n",
       "      <td>1.0</td>\n",
       "      <td>1.0</td>\n",
       "    </tr>\n",
       "    <tr>\n",
       "      <th>Decision Trees</th>\n",
       "      <td>1.0</td>\n",
       "      <td>1.0</td>\n",
       "      <td>1.0</td>\n",
       "    </tr>\n",
       "    <tr>\n",
       "      <th>Random Forest</th>\n",
       "      <td>1.0</td>\n",
       "      <td>1.0</td>\n",
       "      <td>1.0</td>\n",
       "    </tr>\n",
       "    <tr>\n",
       "      <th>Naive Bayes</th>\n",
       "      <td>1.0</td>\n",
       "      <td>1.0</td>\n",
       "      <td>1.0</td>\n",
       "    </tr>\n",
       "    <tr>\n",
       "      <th>K-Nearest Neighbor</th>\n",
       "      <td>1.0</td>\n",
       "      <td>1.0</td>\n",
       "      <td>1.0</td>\n",
       "    </tr>\n",
       "  </tbody>\n",
       "</table>\n",
       "</div>"
      ],
      "text/plain": [
       "                         Accuracy  Precision  Recall\n",
       "Logistic Regression           1.0        1.0     1.0\n",
       "Support Vector Machines       1.0        1.0     1.0\n",
       "Decision Trees                1.0        1.0     1.0\n",
       "Random Forest                 1.0        1.0     1.0\n",
       "Naive Bayes                   1.0        1.0     1.0\n",
       "K-Nearest Neighbor            1.0        1.0     1.0"
      ]
     },
     "execution_count": 14,
     "metadata": {},
     "output_type": "execute_result"
    }
   ],
   "source": [
    "df_model = pd.DataFrame(index=models.keys(), columns=[\n",
    "                        'Accuracy', 'Precision', 'Recall'])\n",
    "df_model['Accuracy'] = accuracy.values()\n",
    "df_model['Precision'] = precision.values()\n",
    "df_model['Recall'] = recall.values()\n",
    "\n",
    "df_model"
   ]
  },
  {
   "cell_type": "code",
   "execution_count": 15,
   "metadata": {},
   "outputs": [
    {
     "data": {
      "image/png": "[encoded data removed]",
      "text/plain": [
       "<Figure size 1440x576 with 1 Axes>"
      ]
     },
     "metadata": {},
     "output_type": "display_data"
    }
   ],
   "source": [
    "ax = df_model.plot.bar(rot=45)\n",
    "plt.xticks(fontsize=16)\n",
    "plt.yticks(fontsize=16)\n",
    "plt.legend(fontsize=13)\n",
    "ax.legend(ncol=len(models.keys()), bbox_to_anchor=(\n",
    "    0, 1), loc='lower left', prop={'size': 14})\n",
    "plt.tight_layout()"
   ]
  },
  {
   "cell_type": "code",
   "execution_count": null,
   "metadata": {},
   "outputs": [],
   "source": []
  },
  {
   "cell_type": "code",
   "execution_count": null,
   "metadata": {},
   "outputs": [],
   "source": []
  },
  {
   "cell_type": "code",
   "execution_count": null,
   "metadata": {},
   "outputs": [],
   "source": []
  },
  {
   "cell_type": "code",
   "execution_count": null,
   "metadata": {},
   "outputs": [],
   "source": []
  },
  {
   "cell_type": "code",
   "execution_count": null,
   "metadata": {},
   "outputs": [],
   "source": []
  },
  {
   "cell_type": "code",
   "execution_count": null,
   "metadata": {},
   "outputs": [],
   "source": []
  },
  {
   "cell_type": "code",
   "execution_count": null,
   "metadata": {},
   "outputs": [],
   "source": []
  },
  {
   "cell_type": "code",
   "execution_count": null,
   "metadata": {},
   "outputs": [],
   "source": []
  },
  {
   "cell_type": "code",
   "execution_count": null,
   "metadata": {},
   "outputs": [],
   "source": []
  }
 ],
 "metadata": {
  "interpreter": {
   "hash": "8abc43b3d971bbbfe7bddad7665b0e853331231bc5daa59e6002e2c31ec46845"
  },
  "kernelspec": {
   "display_name": "Python 3.7.9 ('Tensorflow210')",
   "language": "python",
   "name": "python3"
  },
  "language_info": {
   "codemirror_mode": {
    "name": "ipython",
    "version": 3
   },
   "file_extension": ".py",
   "mimetype": "text/x-python",
   "name": "python",
   "nbconvert_exporter": "python",
   "pygments_lexer": "ipython3",
   "version": "3.7.9"
  },
  "orig_nbformat": 4
 },
 "nbformat": 4,
 "nbformat_minor": 2
}
