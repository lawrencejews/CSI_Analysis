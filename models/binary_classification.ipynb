{
 "cells": [
  {
   "cell_type": "code",
   "execution_count": 264,
   "metadata": {},
   "outputs": [],
   "source": [
    "import os\n",
    "import glob\n",
    "import csv\n",
    "\n",
    "import IPython\n",
    "import IPython.display\n",
    "import matplotlib as mpl\n",
    "import matplotlib.pyplot as plt\n",
    "import numpy as np\n",
    "import pandas as pd\n",
    "import seaborn as sns\n",
    "import tensorflow as tf\n",
    "from sklearn.preprocessing import MinMaxScaler, StandardScaler\n",
    "from sklearn.model_selection import train_test_split\n",
    "\n",
    "mpl.rcParams['figure.figsize'] = (20, 8)\n",
    "mpl.rcParams['axes.grid'] = False\n",
    "plt.style.use('seaborn-darkgrid')"
   ]
  },
  {
   "cell_type": "code",
   "execution_count": 265,
   "metadata": {},
   "outputs": [
    {
     "data": {
      "text/html": [
       "<div>\n",
       "<style scoped>\n",
       "    .dataframe tbody tr th:only-of-type {\n",
       "        vertical-align: middle;\n",
       "    }\n",
       "\n",
       "    .dataframe tbody tr th {\n",
       "        vertical-align: top;\n",
       "    }\n",
       "\n",
       "    .dataframe thead th {\n",
       "        text-align: right;\n",
       "    }\n",
       "</style>\n",
       "<table border=\"1\" class=\"dataframe\">\n",
       "  <thead>\n",
       "    <tr style=\"text-align: right;\">\n",
       "      <th></th>\n",
       "      <th>Time</th>\n",
       "      <th>Subcar_0</th>\n",
       "      <th>Subcar_1</th>\n",
       "      <th>Subcar_2</th>\n",
       "      <th>Subcar_3</th>\n",
       "      <th>Subcar_4</th>\n",
       "      <th>Subcar_5</th>\n",
       "      <th>Subcar_6</th>\n",
       "      <th>Subcar_7</th>\n",
       "      <th>Subcar_8</th>\n",
       "      <th>...</th>\n",
       "      <th>Subcar_55</th>\n",
       "      <th>Subcar_56</th>\n",
       "      <th>Subcar_57</th>\n",
       "      <th>Subcar_58</th>\n",
       "      <th>Subcar_59</th>\n",
       "      <th>Subcar_60</th>\n",
       "      <th>Subcar_61</th>\n",
       "      <th>Subcar_63</th>\n",
       "      <th>Subcar_64</th>\n",
       "      <th>Label</th>\n",
       "    </tr>\n",
       "  </thead>\n",
       "  <tbody>\n",
       "    <tr>\n",
       "      <th>0</th>\n",
       "      <td>1625554196</td>\n",
       "      <td>4343.04985</td>\n",
       "      <td>11583.1162</td>\n",
       "      <td>6556.174571</td>\n",
       "      <td>9442.766173</td>\n",
       "      <td>866.199169</td>\n",
       "      <td>887.929051</td>\n",
       "      <td>905.756038</td>\n",
       "      <td>904.191351</td>\n",
       "      <td>895.897874</td>\n",
       "      <td>...</td>\n",
       "      <td>223.647043</td>\n",
       "      <td>193.258894</td>\n",
       "      <td>175.889170</td>\n",
       "      <td>183.521116</td>\n",
       "      <td>182.912547</td>\n",
       "      <td>239.676866</td>\n",
       "      <td>312.078516</td>\n",
       "      <td>2146.567725</td>\n",
       "      <td>4778.184592</td>\n",
       "      <td>0</td>\n",
       "    </tr>\n",
       "    <tr>\n",
       "      <th>1</th>\n",
       "      <td>1625554197</td>\n",
       "      <td>4343.04985</td>\n",
       "      <td>11583.1162</td>\n",
       "      <td>6556.174571</td>\n",
       "      <td>9442.766173</td>\n",
       "      <td>840.401095</td>\n",
       "      <td>859.684826</td>\n",
       "      <td>886.599120</td>\n",
       "      <td>888.981440</td>\n",
       "      <td>879.275270</td>\n",
       "      <td>...</td>\n",
       "      <td>228.116198</td>\n",
       "      <td>205.805734</td>\n",
       "      <td>178.809955</td>\n",
       "      <td>191.083751</td>\n",
       "      <td>169.543505</td>\n",
       "      <td>230.412673</td>\n",
       "      <td>296.319085</td>\n",
       "      <td>2146.567725</td>\n",
       "      <td>4778.184592</td>\n",
       "      <td>0</td>\n",
       "    </tr>\n",
       "    <tr>\n",
       "      <th>2</th>\n",
       "      <td>1625554197</td>\n",
       "      <td>4343.04985</td>\n",
       "      <td>11583.1162</td>\n",
       "      <td>6556.174571</td>\n",
       "      <td>9442.766173</td>\n",
       "      <td>830.003614</td>\n",
       "      <td>846.435467</td>\n",
       "      <td>868.256299</td>\n",
       "      <td>857.184344</td>\n",
       "      <td>845.568448</td>\n",
       "      <td>...</td>\n",
       "      <td>189.928934</td>\n",
       "      <td>167.868997</td>\n",
       "      <td>162.003086</td>\n",
       "      <td>211.981131</td>\n",
       "      <td>199.251098</td>\n",
       "      <td>175.635987</td>\n",
       "      <td>157.848028</td>\n",
       "      <td>2146.567725</td>\n",
       "      <td>4778.184592</td>\n",
       "      <td>0</td>\n",
       "    </tr>\n",
       "    <tr>\n",
       "      <th>3</th>\n",
       "      <td>1625554197</td>\n",
       "      <td>4343.04985</td>\n",
       "      <td>11583.1162</td>\n",
       "      <td>6556.174571</td>\n",
       "      <td>9442.766173</td>\n",
       "      <td>799.115761</td>\n",
       "      <td>837.195915</td>\n",
       "      <td>884.864961</td>\n",
       "      <td>890.982043</td>\n",
       "      <td>900.568709</td>\n",
       "      <td>...</td>\n",
       "      <td>270.248034</td>\n",
       "      <td>249.064249</td>\n",
       "      <td>227.369743</td>\n",
       "      <td>131.552271</td>\n",
       "      <td>113.137085</td>\n",
       "      <td>92.070625</td>\n",
       "      <td>85.000000</td>\n",
       "      <td>2146.567725</td>\n",
       "      <td>4778.184592</td>\n",
       "      <td>0</td>\n",
       "    </tr>\n",
       "    <tr>\n",
       "      <th>4</th>\n",
       "      <td>1625554197</td>\n",
       "      <td>4343.04985</td>\n",
       "      <td>11583.1162</td>\n",
       "      <td>6556.174571</td>\n",
       "      <td>9442.766173</td>\n",
       "      <td>864.070020</td>\n",
       "      <td>884.672256</td>\n",
       "      <td>910.140648</td>\n",
       "      <td>897.427434</td>\n",
       "      <td>899.608804</td>\n",
       "      <td>...</td>\n",
       "      <td>209.570990</td>\n",
       "      <td>179.044687</td>\n",
       "      <td>159.765453</td>\n",
       "      <td>195.473783</td>\n",
       "      <td>181.796590</td>\n",
       "      <td>174.977141</td>\n",
       "      <td>179.426865</td>\n",
       "      <td>2146.567725</td>\n",
       "      <td>4778.184592</td>\n",
       "      <td>0</td>\n",
       "    </tr>\n",
       "  </tbody>\n",
       "</table>\n",
       "<p>5 rows × 65 columns</p>\n",
       "</div>"
      ],
      "text/plain": [
       "         Time    Subcar_0    Subcar_1     Subcar_2     Subcar_3    Subcar_4  \\\n",
       "0  1625554196  4343.04985  11583.1162  6556.174571  9442.766173  866.199169   \n",
       "1  1625554197  4343.04985  11583.1162  6556.174571  9442.766173  840.401095   \n",
       "2  1625554197  4343.04985  11583.1162  6556.174571  9442.766173  830.003614   \n",
       "3  1625554197  4343.04985  11583.1162  6556.174571  9442.766173  799.115761   \n",
       "4  1625554197  4343.04985  11583.1162  6556.174571  9442.766173  864.070020   \n",
       "\n",
       "     Subcar_5    Subcar_6    Subcar_7    Subcar_8  ...   Subcar_55  \\\n",
       "0  887.929051  905.756038  904.191351  895.897874  ...  223.647043   \n",
       "1  859.684826  886.599120  888.981440  879.275270  ...  228.116198   \n",
       "2  846.435467  868.256299  857.184344  845.568448  ...  189.928934   \n",
       "3  837.195915  884.864961  890.982043  900.568709  ...  270.248034   \n",
       "4  884.672256  910.140648  897.427434  899.608804  ...  209.570990   \n",
       "\n",
       "    Subcar_56   Subcar_57   Subcar_58   Subcar_59   Subcar_60   Subcar_61  \\\n",
       "0  193.258894  175.889170  183.521116  182.912547  239.676866  312.078516   \n",
       "1  205.805734  178.809955  191.083751  169.543505  230.412673  296.319085   \n",
       "2  167.868997  162.003086  211.981131  199.251098  175.635987  157.848028   \n",
       "3  249.064249  227.369743  131.552271  113.137085   92.070625   85.000000   \n",
       "4  179.044687  159.765453  195.473783  181.796590  174.977141  179.426865   \n",
       "\n",
       "     Subcar_63    Subcar_64  Label  \n",
       "0  2146.567725  4778.184592      0  \n",
       "1  2146.567725  4778.184592      0  \n",
       "2  2146.567725  4778.184592      0  \n",
       "3  2146.567725  4778.184592      0  \n",
       "4  2146.567725  4778.184592      0  \n",
       "\n",
       "[5 rows x 65 columns]"
      ]
     },
     "execution_count": 265,
     "metadata": {},
     "output_type": "execute_result"
    }
   ],
   "source": [
    "data_2 = pd.read_csv('../output/train_outputs.csv')\n",
    "# checking our dataframe once again\n",
    "data_2 = data_2.drop([data_2.columns[0]], axis='columns')\n",
    "data_2.head()"
   ]
  },
  {
   "cell_type": "code",
   "execution_count": 266,
   "metadata": {},
   "outputs": [],
   "source": [
    "X_scaled = data_2.iloc[:, 1:]\n",
    "target = data_2.iloc[:,-1]"
   ]
  },
  {
   "cell_type": "code",
   "execution_count": 267,
   "metadata": {},
   "outputs": [
    {
     "name": "stdout",
     "output_type": "stream",
     "text": [
      "[[0. 1. 0. ... 1. 0. 0.]\n",
      " [0. 1. 0. ... 1. 0. 0.]\n",
      " [0. 1. 0. ... 1. 0. 0.]\n",
      " ...\n",
      " [0. 1. 0. ... 1. 0. 1.]\n",
      " [0. 1. 0. ... 1. 0. 1.]\n",
      " [1. 1. 0. ... 1. 0. 1.]]\n"
     ]
    }
   ],
   "source": [
    "# Scaling\n",
    "scaler = MinMaxScaler()\n",
    "data_scaled = scaler.fit_transform(X_scaled)\n",
    "data_scaled\n",
    "print(data_scaled)\n",
    "\n",
    "# standardizer = StandardScaler()\n",
    "# data_scaled = standardizer.fit_transform(data_2)\n",
    "# data_scaled\n",
    "# print(data_scaled)\n"
   ]
  },
  {
   "cell_type": "code",
   "execution_count": 268,
   "metadata": {},
   "outputs": [],
   "source": [
    "from sklearn.preprocessing import LabelEncoder\n",
    "\n",
    "label_encoder = LabelEncoder()\n",
    "target = label_encoder.fit_transform(target)\n"
   ]
  },
  {
   "cell_type": "code",
   "execution_count": 269,
   "metadata": {},
   "outputs": [
    {
     "name": "stdout",
     "output_type": "stream",
     "text": [
      "X_train.shape:  (876, 64)\n",
      "X_test.shape:  (219, 64)\n"
     ]
    }
   ],
   "source": [
    "x_train, x_test, y_train, y_test = train_test_split( data_scaled, target, test_size=0.20, random_state=120, shuffle=False)  # false for timeseries\n",
    "print('X_train.shape: ', x_train.shape)\n",
    "print('X_test.shape: ', x_test.shape)\n"
   ]
  },
  {
   "cell_type": "code",
   "execution_count": 270,
   "metadata": {},
   "outputs": [
    {
     "data": {
      "text/plain": [
       "LogisticRegression()"
      ]
     },
     "execution_count": 270,
     "metadata": {},
     "output_type": "execute_result"
    }
   ],
   "source": [
    "from sklearn.linear_model import LogisticRegression\n",
    "clf = LogisticRegression()\n",
    "# training the model\n",
    "clf.fit(x_train, y_train)"
   ]
  },
  {
   "cell_type": "code",
   "execution_count": 271,
   "metadata": {},
   "outputs": [],
   "source": [
    "y_pred = clf.predict(x_test)\n"
   ]
  },
  {
   "cell_type": "code",
   "execution_count": 272,
   "metadata": {},
   "outputs": [
    {
     "name": "stdout",
     "output_type": "stream",
     "text": [
      "Accuracy: 100.00%\n"
     ]
    }
   ],
   "source": [
    "from sklearn.metrics import accuracy_score\n",
    "accuracy = accuracy_score(y_test, y_pred)\n",
    "print(\"Accuracy: {:.2f}%\".format(accuracy * 100))"
   ]
  },
  {
   "cell_type": "code",
   "execution_count": 273,
   "metadata": {},
   "outputs": [
    {
     "name": "stderr",
     "output_type": "stream",
     "text": [
      "No handles with labels found to put in legend.\n"
     ]
    },
    {
     "data": {
      "text/plain": [
       "<matplotlib.legend.Legend at 0x21f71f49048>"
      ]
     },
     "execution_count": 273,
     "metadata": {},
     "output_type": "execute_result"
    },
    {
     "data": {
      "image/png": "[encoded data removed]",
      "text/plain": [
       "<Figure size 1440x576 with 2 Axes>"
      ]
     },
     "metadata": {},
     "output_type": "display_data"
    }
   ],
   "source": [
    "from sklearn.metrics import confusion_matrix\n",
    "cm = confusion_matrix(y_test, y_pred)\n",
    "plt.figure()\n",
    "sns.heatmap(cm, annot=True )\n",
    "plt.xlabel('Prediction', fontsize=20, fontweight='bold',\n",
    "           horizontalalignment='center')\n",
    "plt.ylabel('Target', fontsize=20, fontweight='bold',\n",
    "           horizontalalignment='center')\n",
    "plt.title('Confusion Matrix', fontsize=20, fontweight='bold',\n",
    "          horizontalalignment='center')\n",
    "plt.xticks(fontsize=16)\n",
    "plt.yticks(fontsize=16)\n",
    "plt.legend(fontsize=13)\n"
   ]
  },
  {
   "cell_type": "code",
   "execution_count": 274,
   "metadata": {},
   "outputs": [
    {
     "name": "stdout",
     "output_type": "stream",
     "text": [
      "True Positive(TP)  =  144\n",
      "False Positive(FP) =  0\n",
      "True Negative(TN)  =  75\n",
      "False Negative(FN) =  0\n",
      "Accuracy of the binary classification = 1.000\n"
     ]
    }
   ],
   "source": [
    "from sklearn.metrics import confusion_matrix\n",
    "\n",
    "cm = confusion_matrix(y_test, y_pred)\n",
    "\n",
    "TN, FP, FN, TP = confusion_matrix(y_test, y_pred).ravel()\n",
    "\n",
    "print('True Positive(TP)  = ', TP)\n",
    "print('False Positive(FP) = ', FP)\n",
    "print('True Negative(TN)  = ', TN)\n",
    "print('False Negative(FN) = ', FN)\n",
    "\n",
    "accuracy = (TP+TN) / (TP+FP+TN+FN)\n",
    "\n",
    "print('Accuracy of the binary classification = {:0.3f}'.format(accuracy))\n"
   ]
  },
  {
   "cell_type": "code",
   "execution_count": 275,
   "metadata": {},
   "outputs": [],
   "source": [
    "from sklearn.neighbors import KNeighborsClassifier\n",
    "from sklearn.naive_bayes import GaussianNB\n",
    "from sklearn.ensemble import RandomForestClassifier\n",
    "from sklearn.tree import DecisionTreeClassifier\n",
    "from sklearn.svm import LinearSVC\n",
    "from sklearn.linear_model import LogisticRegression\n",
    "\n",
    "models = {}\n",
    "\n",
    "# Logistic Regression\n",
    "models['Logistic Regression'] = LogisticRegression(C=0.01, class_weight='balanced', dual=False, random_state=1)\n",
    "\n",
    "# Support Vector Machines\n",
    "models['Support Vector Machines'] = LinearSVC(C = 0.01, loss='hinge', max_iter=1000, random_state=1)\n",
    "\n",
    "# Decision Trees\n",
    "models['Decision Trees'] = DecisionTreeClassifier( random_state=1)\n",
    "\n",
    "# Random Forest\n",
    "models['Random Forest'] = RandomForestClassifier(n_estimators=10, random_state=1)\n",
    "\n",
    "# Naive Bayes\n",
    "models['Naive Bayes'] = GaussianNB()\n",
    "\n",
    "# K-Nearest Neighbors\n",
    "models['K-Nearest Neighbor'] = KNeighborsClassifier(algorithm='auto',\n",
    "                                                    leaf_size=30,\n",
    "                                                    metric='minkowski',\n",
    "                                                    metric_params=None,\n",
    "                                                    n_jobs=1,\n",
    "                                                    n_neighbors=20,\n",
    "                                                    p=2,)\n"
   ]
  },
  {
   "cell_type": "code",
   "execution_count": 276,
   "metadata": {},
   "outputs": [],
   "source": [
    "from sklearn.metrics import accuracy_score, precision_score, recall_score\n",
    "\n",
    "accuracy, precision, recall = {}, {}, {}\n",
    "\n",
    "for key in models.keys():\n",
    "\n",
    "    # Fit the classifier model\n",
    "    models[key].fit(x_train, y_train)\n",
    "\n",
    "    # Prediction\n",
    "    predictions = models[key].predict(x_test)\n",
    "\n",
    "    # Calculate Accuracy, Precision and Recall Metrics\n",
    "    accuracy[key] = accuracy_score(predictions, y_test)\n",
    "    precision[key] = precision_score(predictions, y_test)\n",
    "    recall[key] = recall_score(predictions, y_test)\n"
   ]
  },
  {
   "cell_type": "code",
   "execution_count": 277,
   "metadata": {},
   "outputs": [
    {
     "data": {
      "text/html": [
       "<div>\n",
       "<style scoped>\n",
       "    .dataframe tbody tr th:only-of-type {\n",
       "        vertical-align: middle;\n",
       "    }\n",
       "\n",
       "    .dataframe tbody tr th {\n",
       "        vertical-align: top;\n",
       "    }\n",
       "\n",
       "    .dataframe thead th {\n",
       "        text-align: right;\n",
       "    }\n",
       "</style>\n",
       "<table border=\"1\" class=\"dataframe\">\n",
       "  <thead>\n",
       "    <tr style=\"text-align: right;\">\n",
       "      <th></th>\n",
       "      <th>Accuracy</th>\n",
       "      <th>Precision</th>\n",
       "      <th>Recall</th>\n",
       "    </tr>\n",
       "  </thead>\n",
       "  <tbody>\n",
       "    <tr>\n",
       "      <th>Logistic Regression</th>\n",
       "      <td>0.922374</td>\n",
       "      <td>1.0</td>\n",
       "      <td>0.89441</td>\n",
       "    </tr>\n",
       "    <tr>\n",
       "      <th>Support Vector Machines</th>\n",
       "      <td>1.000000</td>\n",
       "      <td>1.0</td>\n",
       "      <td>1.00000</td>\n",
       "    </tr>\n",
       "    <tr>\n",
       "      <th>Decision Trees</th>\n",
       "      <td>1.000000</td>\n",
       "      <td>1.0</td>\n",
       "      <td>1.00000</td>\n",
       "    </tr>\n",
       "    <tr>\n",
       "      <th>Random Forest</th>\n",
       "      <td>0.926941</td>\n",
       "      <td>1.0</td>\n",
       "      <td>0.90000</td>\n",
       "    </tr>\n",
       "    <tr>\n",
       "      <th>Naive Bayes</th>\n",
       "      <td>1.000000</td>\n",
       "      <td>1.0</td>\n",
       "      <td>1.00000</td>\n",
       "    </tr>\n",
       "    <tr>\n",
       "      <th>K-Nearest Neighbor</th>\n",
       "      <td>1.000000</td>\n",
       "      <td>1.0</td>\n",
       "      <td>1.00000</td>\n",
       "    </tr>\n",
       "  </tbody>\n",
       "</table>\n",
       "</div>"
      ],
      "text/plain": [
       "                         Accuracy  Precision   Recall\n",
       "Logistic Regression      0.922374        1.0  0.89441\n",
       "Support Vector Machines  1.000000        1.0  1.00000\n",
       "Decision Trees           1.000000        1.0  1.00000\n",
       "Random Forest            0.926941        1.0  0.90000\n",
       "Naive Bayes              1.000000        1.0  1.00000\n",
       "K-Nearest Neighbor       1.000000        1.0  1.00000"
      ]
     },
     "execution_count": 277,
     "metadata": {},
     "output_type": "execute_result"
    }
   ],
   "source": [
    "df_model = pd.DataFrame(index=models.keys(), columns=[\n",
    "                        'Accuracy', 'Precision', 'Recall'])\n",
    "df_model['Accuracy'] = accuracy.values()\n",
    "df_model['Precision'] = precision.values()\n",
    "df_model['Recall'] = recall.values()\n",
    "\n",
    "df_model"
   ]
  },
  {
   "cell_type": "code",
   "execution_count": 278,
   "metadata": {},
   "outputs": [
    {
     "data": {
      "image/png": "[encoded data removed]",
      "text/plain": [
       "<Figure size 1440x576 with 1 Axes>"
      ]
     },
     "metadata": {},
     "output_type": "display_data"
    }
   ],
   "source": [
    "ax = df_model.plot.bar(rot=45)\n",
    "plt.xticks(fontsize=16)\n",
    "plt.yticks(fontsize=16)\n",
    "plt.legend(fontsize=13)\n",
    "ax.legend(ncol=len(models.keys()), bbox_to_anchor=(\n",
    "    0, 1), loc='lower left', prop={'size': 14})\n",
    "plt.tight_layout()"
   ]
  },
  {
   "cell_type": "code",
   "execution_count": null,
   "metadata": {},
   "outputs": [],
   "source": []
  },
  {
   "cell_type": "code",
   "execution_count": null,
   "metadata": {},
   "outputs": [],
   "source": []
  },
  {
   "cell_type": "code",
   "execution_count": null,
   "metadata": {},
   "outputs": [],
   "source": []
  },
  {
   "cell_type": "code",
   "execution_count": null,
   "metadata": {},
   "outputs": [],
   "source": []
  },
  {
   "cell_type": "code",
   "execution_count": null,
   "metadata": {},
   "outputs": [],
   "source": []
  },
  {
   "cell_type": "code",
   "execution_count": null,
   "metadata": {},
   "outputs": [],
   "source": []
  },
  {
   "cell_type": "code",
   "execution_count": null,
   "metadata": {},
   "outputs": [],
   "source": []
  },
  {
   "cell_type": "code",
   "execution_count": null,
   "metadata": {},
   "outputs": [],
   "source": []
  },
  {
   "cell_type": "code",
   "execution_count": null,
   "metadata": {},
   "outputs": [],
   "source": []
  }
 ],
 "metadata": {
  "interpreter": {
   "hash": "8abc43b3d971bbbfe7bddad7665b0e853331231bc5daa59e6002e2c31ec46845"
  },
  "kernelspec": {
   "display_name": "Python 3.7.9 ('Tensorflow210')",
   "language": "python",
   "name": "python3"
  },
  "language_info": {
   "codemirror_mode": {
    "name": "ipython",
    "version": 3
   },
   "file_extension": ".py",
   "mimetype": "text/x-python",
   "name": "python",
   "nbconvert_exporter": "python",
   "pygments_lexer": "ipython3",
   "version": "3.7.9"
  },
  "orig_nbformat": 4
 },
 "nbformat": 4,
 "nbformat_minor": 2
}
