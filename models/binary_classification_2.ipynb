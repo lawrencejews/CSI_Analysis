{
 "cells": [
  {
   "cell_type": "code",
   "execution_count": 1,
   "metadata": {},
   "outputs": [
    {
     "name": "stderr",
     "output_type": "stream",
     "text": [
      "C:\\Users\\Owner\\anaconda3\\envs\\Tensorflow210\\lib\\site-packages\\numpy\\_distributor_init.py:32: UserWarning: loaded more than 1 DLL from .libs:\n",
      "C:\\Users\\Owner\\anaconda3\\envs\\Tensorflow210\\lib\\site-packages\\numpy\\.libs\\libopenblas.NOIJJG62EMASZI6NYURL6JBKM4EVBGM7.gfortran-win_amd64.dll\n",
      "C:\\Users\\Owner\\anaconda3\\envs\\Tensorflow210\\lib\\site-packages\\numpy\\.libs\\libopenblas.PYQHXLVVQ7VESDPUVUADXEVJOBGHJPAY.gfortran-win_amd64.dll\n",
      "C:\\Users\\Owner\\anaconda3\\envs\\Tensorflow210\\lib\\site-packages\\numpy\\.libs\\libopenblas.WCDJNK7YVMPZQ2ME2ZZHJJRJ3JIKNDB7.gfortran-win_amd64.dll\n",
      "  stacklevel=1)\n"
     ]
    }
   ],
   "source": [
    "import os\n",
    "import glob\n",
    "import csv\n",
    "\n",
    "import IPython\n",
    "import IPython.display\n",
    "import matplotlib as mpl\n",
    "import matplotlib.pyplot as plt\n",
    "import numpy as np\n",
    "import pandas as pd\n",
    "import seaborn as sns\n",
    "import tensorflow as tf\n",
    "from sklearn.preprocessing import MinMaxScaler, StandardScaler\n",
    "from sklearn.model_selection import train_test_split\n",
    "from tensorflow.keras.callbacks import ModelCheckpoint\n",
    "\n",
    "mpl.rcParams['figure.figsize'] = (20, 8)\n",
    "mpl.rcParams['axes.grid'] = False\n",
    "plt.style.use('seaborn-darkgrid')\n"
   ]
  },
  {
   "cell_type": "code",
   "execution_count": 2,
   "metadata": {},
   "outputs": [
    {
     "data": {
      "text/html": [
       "<div>\n",
       "<style scoped>\n",
       "    .dataframe tbody tr th:only-of-type {\n",
       "        vertical-align: middle;\n",
       "    }\n",
       "\n",
       "    .dataframe tbody tr th {\n",
       "        vertical-align: top;\n",
       "    }\n",
       "\n",
       "    .dataframe thead th {\n",
       "        text-align: right;\n",
       "    }\n",
       "</style>\n",
       "<table border=\"1\" class=\"dataframe\">\n",
       "  <thead>\n",
       "    <tr style=\"text-align: right;\">\n",
       "      <th></th>\n",
       "      <th>sub1</th>\n",
       "      <th>sub2</th>\n",
       "      <th>sub3</th>\n",
       "      <th>sub4</th>\n",
       "      <th>sub5</th>\n",
       "      <th>sub6</th>\n",
       "      <th>sub7</th>\n",
       "      <th>sub8</th>\n",
       "      <th>sub9</th>\n",
       "      <th>sub10</th>\n",
       "      <th>...</th>\n",
       "      <th>sub22</th>\n",
       "      <th>sub23</th>\n",
       "      <th>sub24</th>\n",
       "      <th>sub25</th>\n",
       "      <th>sub26</th>\n",
       "      <th>sub27</th>\n",
       "      <th>sub28</th>\n",
       "      <th>sub29</th>\n",
       "      <th>sub30</th>\n",
       "      <th>label</th>\n",
       "    </tr>\n",
       "  </thead>\n",
       "  <tbody>\n",
       "    <tr>\n",
       "      <th>0</th>\n",
       "      <td>21.095023</td>\n",
       "      <td>26.305893</td>\n",
       "      <td>29.068884</td>\n",
       "      <td>30.000000</td>\n",
       "      <td>31.827661</td>\n",
       "      <td>32.000000</td>\n",
       "      <td>33.301652</td>\n",
       "      <td>32.140317</td>\n",
       "      <td>33.015148</td>\n",
       "      <td>33.955854</td>\n",
       "      <td>...</td>\n",
       "      <td>33.241540</td>\n",
       "      <td>33.301652</td>\n",
       "      <td>33.060551</td>\n",
       "      <td>31.144823</td>\n",
       "      <td>30.066593</td>\n",
       "      <td>28.425341</td>\n",
       "      <td>26.476405</td>\n",
       "      <td>22.825424</td>\n",
       "      <td>19.104973</td>\n",
       "      <td>0</td>\n",
       "    </tr>\n",
       "    <tr>\n",
       "      <th>1</th>\n",
       "      <td>18.384776</td>\n",
       "      <td>23.769729</td>\n",
       "      <td>25.495098</td>\n",
       "      <td>27.073973</td>\n",
       "      <td>28.017851</td>\n",
       "      <td>28.861739</td>\n",
       "      <td>29.154759</td>\n",
       "      <td>29.410882</td>\n",
       "      <td>29.068884</td>\n",
       "      <td>29.410882</td>\n",
       "      <td>...</td>\n",
       "      <td>30.066593</td>\n",
       "      <td>30.479501</td>\n",
       "      <td>30.265492</td>\n",
       "      <td>28.017851</td>\n",
       "      <td>26.925824</td>\n",
       "      <td>26.000000</td>\n",
       "      <td>23.853721</td>\n",
       "      <td>21.023796</td>\n",
       "      <td>17.464249</td>\n",
       "      <td>0</td>\n",
       "    </tr>\n",
       "    <tr>\n",
       "      <th>2</th>\n",
       "      <td>20.615528</td>\n",
       "      <td>26.019224</td>\n",
       "      <td>28.017851</td>\n",
       "      <td>30.083218</td>\n",
       "      <td>31.304952</td>\n",
       "      <td>32.310989</td>\n",
       "      <td>33.105891</td>\n",
       "      <td>32.893768</td>\n",
       "      <td>34.885527</td>\n",
       "      <td>34.205263</td>\n",
       "      <td>...</td>\n",
       "      <td>33.105891</td>\n",
       "      <td>31.953091</td>\n",
       "      <td>31.780497</td>\n",
       "      <td>31.384710</td>\n",
       "      <td>28.792360</td>\n",
       "      <td>28.301943</td>\n",
       "      <td>27.294688</td>\n",
       "      <td>22.627417</td>\n",
       "      <td>20.248457</td>\n",
       "      <td>0</td>\n",
       "    </tr>\n",
       "    <tr>\n",
       "      <th>3</th>\n",
       "      <td>20.808652</td>\n",
       "      <td>27.073973</td>\n",
       "      <td>29.068884</td>\n",
       "      <td>30.413813</td>\n",
       "      <td>31.906112</td>\n",
       "      <td>32.984845</td>\n",
       "      <td>32.449961</td>\n",
       "      <td>33.734256</td>\n",
       "      <td>34.409301</td>\n",
       "      <td>34.234486</td>\n",
       "      <td>...</td>\n",
       "      <td>33.421550</td>\n",
       "      <td>33.136083</td>\n",
       "      <td>33.421550</td>\n",
       "      <td>31.256999</td>\n",
       "      <td>30.805844</td>\n",
       "      <td>29.120440</td>\n",
       "      <td>26.400758</td>\n",
       "      <td>23.706539</td>\n",
       "      <td>20.000000</td>\n",
       "      <td>0</td>\n",
       "    </tr>\n",
       "    <tr>\n",
       "      <th>4</th>\n",
       "      <td>21.095023</td>\n",
       "      <td>26.305893</td>\n",
       "      <td>29.000000</td>\n",
       "      <td>30.149627</td>\n",
       "      <td>31.622777</td>\n",
       "      <td>32.557641</td>\n",
       "      <td>33.837849</td>\n",
       "      <td>33.541020</td>\n",
       "      <td>33.600595</td>\n",
       "      <td>34.234486</td>\n",
       "      <td>...</td>\n",
       "      <td>33.015148</td>\n",
       "      <td>32.388269</td>\n",
       "      <td>33.015148</td>\n",
       "      <td>31.400637</td>\n",
       "      <td>29.681644</td>\n",
       "      <td>28.460499</td>\n",
       "      <td>26.570661</td>\n",
       "      <td>22.472205</td>\n",
       "      <td>19.723083</td>\n",
       "      <td>0</td>\n",
       "    </tr>\n",
       "  </tbody>\n",
       "</table>\n",
       "<p>5 rows × 31 columns</p>\n",
       "</div>"
      ],
      "text/plain": [
       "        sub1       sub2       sub3       sub4       sub5       sub6  \\\n",
       "0  21.095023  26.305893  29.068884  30.000000  31.827661  32.000000   \n",
       "1  18.384776  23.769729  25.495098  27.073973  28.017851  28.861739   \n",
       "2  20.615528  26.019224  28.017851  30.083218  31.304952  32.310989   \n",
       "3  20.808652  27.073973  29.068884  30.413813  31.906112  32.984845   \n",
       "4  21.095023  26.305893  29.000000  30.149627  31.622777  32.557641   \n",
       "\n",
       "        sub7       sub8       sub9      sub10  ...      sub22      sub23  \\\n",
       "0  33.301652  32.140317  33.015148  33.955854  ...  33.241540  33.301652   \n",
       "1  29.154759  29.410882  29.068884  29.410882  ...  30.066593  30.479501   \n",
       "2  33.105891  32.893768  34.885527  34.205263  ...  33.105891  31.953091   \n",
       "3  32.449961  33.734256  34.409301  34.234486  ...  33.421550  33.136083   \n",
       "4  33.837849  33.541020  33.600595  34.234486  ...  33.015148  32.388269   \n",
       "\n",
       "       sub24      sub25      sub26      sub27      sub28      sub29  \\\n",
       "0  33.060551  31.144823  30.066593  28.425341  26.476405  22.825424   \n",
       "1  30.265492  28.017851  26.925824  26.000000  23.853721  21.023796   \n",
       "2  31.780497  31.384710  28.792360  28.301943  27.294688  22.627417   \n",
       "3  33.421550  31.256999  30.805844  29.120440  26.400758  23.706539   \n",
       "4  33.015148  31.400637  29.681644  28.460499  26.570661  22.472205   \n",
       "\n",
       "       sub30  label  \n",
       "0  19.104973      0  \n",
       "1  17.464249      0  \n",
       "2  20.248457      0  \n",
       "3  20.000000      0  \n",
       "4  19.723083      0  \n",
       "\n",
       "[5 rows x 31 columns]"
      ]
     },
     "execution_count": 2,
     "metadata": {},
     "output_type": "execute_result"
    }
   ],
   "source": [
    "data_2 = pd.read_csv('../output/csi_data.csv')\n",
    "# checking our dataframe once again\n",
    "data_2 = data_2.drop([data_2.columns[0]], axis='columns')\n",
    "data_2.head()"
   ]
  },
  {
   "cell_type": "code",
   "execution_count": 3,
   "metadata": {},
   "outputs": [],
   "source": [
    "X_data = data_2.iloc[:, 1:]\n",
    "target = data_2.iloc[:, -1]"
   ]
  },
  {
   "cell_type": "code",
   "execution_count": 4,
   "metadata": {},
   "outputs": [
    {
     "name": "stdout",
     "output_type": "stream",
     "text": [
      "X_train.shape:  (838860, 30)\n",
      "X_test.shape:  (209715, 30)\n"
     ]
    }
   ],
   "source": [
    "x_train, x_test, y_train, y_test = train_test_split(\n",
    "    X_data, target, test_size=0.20, random_state=120, shuffle=False)  # false for timeseries\n",
    "print('X_train.shape: ', x_train.shape)\n",
    "print('X_test.shape: ', x_test.shape)"
   ]
  },
  {
   "cell_type": "code",
   "execution_count": 5,
   "metadata": {},
   "outputs": [
    {
     "name": "stdout",
     "output_type": "stream",
     "text": [
      "[[-0.4377487  -0.22671384 -0.21263364 ... -0.23467084 -0.30106064\n",
      "  -0.4431347 ]\n",
      " [-0.93691384 -0.97006184 -0.88188411 ... -0.77519258 -0.87058014\n",
      "  -0.4431347 ]\n",
      " [-0.49417063 -0.44532869 -0.19359977 ... -0.29407672  0.09585938\n",
      "  -0.4431347 ]\n",
      " ...\n",
      " [-0.49417063 -0.49004329 -0.52469401 ...  0.96762047  1.05850306\n",
      "  -0.4431347 ]\n",
      " [-0.53594503 -0.64165559 -0.59697916 ...  0.56628035  0.98275555\n",
      "  -0.4431347 ]\n",
      " [-0.41535134 -0.40095457 -0.48884897 ...  0.70043239  0.70384589\n",
      "  -0.4431347 ]]\n"
     ]
    }
   ],
   "source": [
    "# Scaling\n",
    "# scaler = MinMaxScaler()\n",
    "# data_scaled = scaler.fit_transform(X_data)\n",
    "# data_scaled\n",
    "# print(data_scaled)\n",
    "standardizer = StandardScaler()\n",
    "data_scaled = standardizer.fit_transform(X_data)\n",
    "data_scaled\n",
    "print(data_scaled)"
   ]
  },
  {
   "cell_type": "code",
   "execution_count": 6,
   "metadata": {},
   "outputs": [
    {
     "data": {
      "text/plain": [
       "array([[-0.48283662, -0.59574676, -0.70283868, ..., -0.89768049,\n",
       "        -0.87058014, -0.4431347 ],\n",
       "       [ 0.10606021,  0.09053491,  0.10408166, ..., -0.10446815,\n",
       "         0.36499109, -0.4431347 ],\n",
       "       [ 0.29260093,  0.01530456,  0.08949137, ..., -0.07871806,\n",
       "        -0.01646622, -0.4431347 ],\n",
       "       ...,\n",
       "       [-0.49417063, -0.49004329, -0.52469401, ...,  0.96762047,\n",
       "         1.05850306, -0.4431347 ],\n",
       "       [-0.53594503, -0.64165559, -0.59697916, ...,  0.56628035,\n",
       "         0.98275555, -0.4431347 ],\n",
       "       [-0.41535134, -0.40095457, -0.48884897, ...,  0.70043239,\n",
       "         0.70384589, -0.4431347 ]])"
      ]
     },
     "execution_count": 6,
     "metadata": {},
     "output_type": "execute_result"
    }
   ],
   "source": [
    "x_test_scaled = standardizer.transform(x_test)\n",
    "x_test_scaled"
   ]
  },
  {
   "cell_type": "code",
   "execution_count": 7,
   "metadata": {},
   "outputs": [
    {
     "name": "stdout",
     "output_type": "stream",
     "text": [
      "X_train.shape:  (838860, 30, 1)\n",
      "X_test.shape:  (209715, 30, 1)\n"
     ]
    }
   ],
   "source": [
    "x_train = x_train.values.reshape(838860, 30, 1)\n",
    "x_test = x_test.values.reshape(209715, 30, 1)\n",
    "print('X_train.shape: ', x_train.shape)\n",
    "print('X_test.shape: ', x_test.shape)"
   ]
  },
  {
   "cell_type": "code",
   "execution_count": 8,
   "metadata": {},
   "outputs": [
    {
     "name": "stdout",
     "output_type": "stream",
     "text": [
      "Model: \"sequential\"\n",
      "_________________________________________________________________\n",
      "Layer (type)                 Output Shape              Param #   \n",
      "=================================================================\n",
      "lstm (LSTM)                  (None, 30, 64)            16896     \n",
      "_________________________________________________________________\n",
      "dense (Dense)                (None, 30, 32)            2080      \n",
      "_________________________________________________________________\n",
      "dense_1 (Dense)              (None, 30, 1)             33        \n",
      "=================================================================\n",
      "Total params: 19,009\n",
      "Trainable params: 19,009\n",
      "Non-trainable params: 0\n",
      "_________________________________________________________________\n"
     ]
    }
   ],
   "source": [
    "# Set up parameters\n",
    "n_steps = 30\n",
    "n_features = 1\n",
    "epochs = 2\n",
    "\n",
    "# Create a traditional RNN network\n",
    "model = tf.keras.Sequential()\n",
    "model.add(tf.keras.layers.LSTM(64, input_shape=(\n",
    "    n_steps, n_features),  return_sequences=True,))\n",
    "model.add(tf.keras.layers.Dense(32, activation='relu'))\n",
    "model.add(tf.keras.layers.Dense(1, activation='sigmoid'))\n",
    "model.summary()"
   ]
  },
  {
   "cell_type": "code",
   "execution_count": 9,
   "metadata": {},
   "outputs": [],
   "source": [
    "cp1 = ModelCheckpoint('../save/rnn_model/', save_best_only=True)\n",
    "early_stopping = tf.keras.callbacks.EarlyStopping(\n",
    "    monitor='val_loss',\n",
    "    patience=2,\n",
    "    mode='min'\n",
    ")\n",
    "\n",
    "model.compile(optimizer=tf.keras.optimizers.Adam(lr=0.001),\n",
    "              loss='binary_crossentropy', metrics=['BinaryAccuracy'])"
   ]
  },
  {
   "cell_type": "code",
   "execution_count": 10,
   "metadata": {},
   "outputs": [
    {
     "name": "stdout",
     "output_type": "stream",
     "text": [
      "Epoch 1/2\n",
      "8387/8389 [============================>.] - ETA: 0s - loss: 0.3914 - binary_accuracy: 0.8599WARNING:tensorflow:Early stopping conditioned on metric `val_loss` which is not available. Available metrics are: loss,binary_accuracy\n",
      "WARNING:tensorflow:Can save best model only with val_loss available, skipping.\n",
      "8389/8389 [==============================] - 94s 11ms/step - loss: 0.3915 - binary_accuracy: 0.8599\n",
      "Epoch 2/2\n",
      "8385/8389 [============================>.] - ETA: 0s - loss: 0.3671 - binary_accuracy: 0.8653WARNING:tensorflow:Early stopping conditioned on metric `val_loss` which is not available. Available metrics are: loss,binary_accuracy\n",
      "WARNING:tensorflow:Can save best model only with val_loss available, skipping.\n",
      "8389/8389 [==============================] - 95s 11ms/step - loss: 0.3671 - binary_accuracy: 0.8653\n"
     ]
    }
   ],
   "source": [
    "model_RNN = model.fit(x_train, y_train, epochs=epochs,\n",
    "                      batch_size=100, callbacks=[early_stopping, cp1])\n"
   ]
  },
  {
   "cell_type": "code",
   "execution_count": 11,
   "metadata": {},
   "outputs": [
    {
     "name": "stdout",
     "output_type": "stream",
     "text": [
      "{'loss': [0.39145106077194214, 0.3670966327190399], 'binary_accuracy': [0.8598952889442444, 0.8653389811515808]}\n"
     ]
    }
   ],
   "source": [
    "print(model_RNN.history)\n"
   ]
  },
  {
   "cell_type": "code",
   "execution_count": 12,
   "metadata": {},
   "outputs": [
    {
     "name": "stdout",
     "output_type": "stream",
     "text": [
      "0.8653389811515808\n"
     ]
    }
   ],
   "source": [
    "best_score = max(model_RNN.history['binary_accuracy'])\n",
    "\n",
    "print(best_score)"
   ]
  },
  {
   "cell_type": "code",
   "execution_count": 13,
   "metadata": {},
   "outputs": [
    {
     "data": {
      "text/plain": [
       "[<matplotlib.lines.Line2D at 0x14d16bce9c8>]"
      ]
     },
     "execution_count": 13,
     "metadata": {},
     "output_type": "execute_result"
    },
    {
     "data": {
      "image/png": "[encoded data removed]",
      "text/plain": [
       "<Figure size 1440x576 with 1 Axes>"
      ]
     },
     "metadata": {},
     "output_type": "display_data"
    }
   ],
   "source": [
    "plt.plot(model_RNN.history['binary_accuracy'])\n",
    "plt.plot(model_RNN.history['loss'])\n"
   ]
  },
  {
   "cell_type": "code",
   "execution_count": 21,
   "metadata": {},
   "outputs": [
    {
     "data": {
      "image/png": "[encoded data removed]",
      "text/plain": [
       "<Figure size 1440x576 with 2 Axes>"
      ]
     },
     "metadata": {},
     "output_type": "display_data"
    }
   ],
   "source": [
    "fig, loss_ax = plt.subplots()\n",
    "acc_ax = loss_ax.twinx()\n",
    "\n",
    "loss_ax.plot(model_RNN.history['loss'], 'y', label='train loss')\n",
    "loss_ax.plot(model_RNN.history['loss'], 'r', label='val loss')\n",
    "loss_ax.set_xlabel('epoch')\n",
    "loss_ax.set_ylabel('loss')\n",
    "loss_ax.legend(loc='upper left')\n",
    "\n",
    "acc_ax.plot(model_RNN.history['binary_accuracy'], 'b', label='train acc')\n",
    "acc_ax.plot(model_RNN.history['binary_accuracy'], 'g', label='val acc')\n",
    "acc_ax.set_ylabel('accuracy')\n",
    "acc_ax.legend(loc='upper left')\n",
    "\n",
    "plt.show()\n"
   ]
  }
 ],
 "metadata": {
  "interpreter": {
   "hash": "8abc43b3d971bbbfe7bddad7665b0e853331231bc5daa59e6002e2c31ec46845"
  },
  "kernelspec": {
   "display_name": "Python 3.7.9 ('Tensorflow210')",
   "language": "python",
   "name": "python3"
  },
  "language_info": {
   "codemirror_mode": {
    "name": "ipython",
    "version": 3
   },
   "file_extension": ".py",
   "mimetype": "text/x-python",
   "name": "python",
   "nbconvert_exporter": "python",
   "pygments_lexer": "ipython3",
   "version": "3.7.9"
  },
  "orig_nbformat": 4
 },
 "nbformat": 4,
 "nbformat_minor": 2
}
