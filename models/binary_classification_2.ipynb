{
 "cells": [
  {
   "cell_type": "code",
   "execution_count": 133,
   "metadata": {},
   "outputs": [],
   "source": [
    "import IPython\n",
    "import IPython.display\n",
    "import matplotlib as mpl\n",
    "import matplotlib.pyplot as plt\n",
    "import numpy as np\n",
    "import pandas as pd\n",
    "import seaborn as sns\n",
    "import tensorflow as tf\n",
    "from sklearn.preprocessing import MinMaxScaler, StandardScaler\n",
    "from sklearn.model_selection import train_test_split\n",
    "from tensorflow.keras.callbacks import ModelCheckpoint\n",
    "\n",
    "mpl.rcParams['figure.figsize'] = (20, 8)\n",
    "mpl.rcParams['axes.grid'] = False\n",
    "plt.style.use('seaborn-darkgrid')"
   ]
  },
  {
   "cell_type": "code",
   "execution_count": 134,
   "metadata": {},
   "outputs": [
    {
     "data": {
      "text/html": [
       "<div>\n",
       "<style scoped>\n",
       "    .dataframe tbody tr th:only-of-type {\n",
       "        vertical-align: middle;\n",
       "    }\n",
       "\n",
       "    .dataframe tbody tr th {\n",
       "        vertical-align: top;\n",
       "    }\n",
       "\n",
       "    .dataframe thead th {\n",
       "        text-align: right;\n",
       "    }\n",
       "</style>\n",
       "<table border=\"1\" class=\"dataframe\">\n",
       "  <thead>\n",
       "    <tr style=\"text-align: right;\">\n",
       "      <th></th>\n",
       "      <th>sub1</th>\n",
       "      <th>sub2</th>\n",
       "      <th>sub3</th>\n",
       "      <th>sub4</th>\n",
       "      <th>sub5</th>\n",
       "      <th>sub6</th>\n",
       "      <th>sub7</th>\n",
       "      <th>sub8</th>\n",
       "      <th>sub9</th>\n",
       "      <th>sub10</th>\n",
       "      <th>...</th>\n",
       "      <th>sub22</th>\n",
       "      <th>sub23</th>\n",
       "      <th>sub24</th>\n",
       "      <th>sub25</th>\n",
       "      <th>sub26</th>\n",
       "      <th>sub27</th>\n",
       "      <th>sub28</th>\n",
       "      <th>sub29</th>\n",
       "      <th>sub30</th>\n",
       "      <th>label</th>\n",
       "    </tr>\n",
       "  </thead>\n",
       "  <tbody>\n",
       "    <tr>\n",
       "      <th>0</th>\n",
       "      <td>21.095023</td>\n",
       "      <td>26.305893</td>\n",
       "      <td>29.068884</td>\n",
       "      <td>30.000000</td>\n",
       "      <td>31.827661</td>\n",
       "      <td>32.000000</td>\n",
       "      <td>33.301652</td>\n",
       "      <td>32.140317</td>\n",
       "      <td>33.015148</td>\n",
       "      <td>33.955854</td>\n",
       "      <td>...</td>\n",
       "      <td>33.241540</td>\n",
       "      <td>33.301652</td>\n",
       "      <td>33.060551</td>\n",
       "      <td>31.144823</td>\n",
       "      <td>30.066593</td>\n",
       "      <td>28.425341</td>\n",
       "      <td>26.476405</td>\n",
       "      <td>22.825424</td>\n",
       "      <td>19.104973</td>\n",
       "      <td>0</td>\n",
       "    </tr>\n",
       "    <tr>\n",
       "      <th>1</th>\n",
       "      <td>18.384776</td>\n",
       "      <td>23.769729</td>\n",
       "      <td>25.495098</td>\n",
       "      <td>27.073973</td>\n",
       "      <td>28.017851</td>\n",
       "      <td>28.861739</td>\n",
       "      <td>29.154759</td>\n",
       "      <td>29.410882</td>\n",
       "      <td>29.068884</td>\n",
       "      <td>29.410882</td>\n",
       "      <td>...</td>\n",
       "      <td>30.066593</td>\n",
       "      <td>30.479501</td>\n",
       "      <td>30.265492</td>\n",
       "      <td>28.017851</td>\n",
       "      <td>26.925824</td>\n",
       "      <td>26.000000</td>\n",
       "      <td>23.853721</td>\n",
       "      <td>21.023796</td>\n",
       "      <td>17.464249</td>\n",
       "      <td>0</td>\n",
       "    </tr>\n",
       "    <tr>\n",
       "      <th>2</th>\n",
       "      <td>20.615528</td>\n",
       "      <td>26.019224</td>\n",
       "      <td>28.017851</td>\n",
       "      <td>30.083218</td>\n",
       "      <td>31.304952</td>\n",
       "      <td>32.310989</td>\n",
       "      <td>33.105891</td>\n",
       "      <td>32.893768</td>\n",
       "      <td>34.885527</td>\n",
       "      <td>34.205263</td>\n",
       "      <td>...</td>\n",
       "      <td>33.105891</td>\n",
       "      <td>31.953091</td>\n",
       "      <td>31.780497</td>\n",
       "      <td>31.384710</td>\n",
       "      <td>28.792360</td>\n",
       "      <td>28.301943</td>\n",
       "      <td>27.294688</td>\n",
       "      <td>22.627417</td>\n",
       "      <td>20.248457</td>\n",
       "      <td>0</td>\n",
       "    </tr>\n",
       "    <tr>\n",
       "      <th>3</th>\n",
       "      <td>20.808652</td>\n",
       "      <td>27.073973</td>\n",
       "      <td>29.068884</td>\n",
       "      <td>30.413813</td>\n",
       "      <td>31.906112</td>\n",
       "      <td>32.984845</td>\n",
       "      <td>32.449961</td>\n",
       "      <td>33.734256</td>\n",
       "      <td>34.409301</td>\n",
       "      <td>34.234486</td>\n",
       "      <td>...</td>\n",
       "      <td>33.421550</td>\n",
       "      <td>33.136083</td>\n",
       "      <td>33.421550</td>\n",
       "      <td>31.256999</td>\n",
       "      <td>30.805844</td>\n",
       "      <td>29.120440</td>\n",
       "      <td>26.400758</td>\n",
       "      <td>23.706539</td>\n",
       "      <td>20.000000</td>\n",
       "      <td>0</td>\n",
       "    </tr>\n",
       "    <tr>\n",
       "      <th>4</th>\n",
       "      <td>21.095023</td>\n",
       "      <td>26.305893</td>\n",
       "      <td>29.000000</td>\n",
       "      <td>30.149627</td>\n",
       "      <td>31.622777</td>\n",
       "      <td>32.557641</td>\n",
       "      <td>33.837849</td>\n",
       "      <td>33.541020</td>\n",
       "      <td>33.600595</td>\n",
       "      <td>34.234486</td>\n",
       "      <td>...</td>\n",
       "      <td>33.015148</td>\n",
       "      <td>32.388269</td>\n",
       "      <td>33.015148</td>\n",
       "      <td>31.400637</td>\n",
       "      <td>29.681644</td>\n",
       "      <td>28.460499</td>\n",
       "      <td>26.570661</td>\n",
       "      <td>22.472205</td>\n",
       "      <td>19.723083</td>\n",
       "      <td>0</td>\n",
       "    </tr>\n",
       "  </tbody>\n",
       "</table>\n",
       "<p>5 rows × 31 columns</p>\n",
       "</div>"
      ],
      "text/plain": [
       "        sub1       sub2       sub3       sub4       sub5       sub6  \\\n",
       "0  21.095023  26.305893  29.068884  30.000000  31.827661  32.000000   \n",
       "1  18.384776  23.769729  25.495098  27.073973  28.017851  28.861739   \n",
       "2  20.615528  26.019224  28.017851  30.083218  31.304952  32.310989   \n",
       "3  20.808652  27.073973  29.068884  30.413813  31.906112  32.984845   \n",
       "4  21.095023  26.305893  29.000000  30.149627  31.622777  32.557641   \n",
       "\n",
       "        sub7       sub8       sub9      sub10  ...      sub22      sub23  \\\n",
       "0  33.301652  32.140317  33.015148  33.955854  ...  33.241540  33.301652   \n",
       "1  29.154759  29.410882  29.068884  29.410882  ...  30.066593  30.479501   \n",
       "2  33.105891  32.893768  34.885527  34.205263  ...  33.105891  31.953091   \n",
       "3  32.449961  33.734256  34.409301  34.234486  ...  33.421550  33.136083   \n",
       "4  33.837849  33.541020  33.600595  34.234486  ...  33.015148  32.388269   \n",
       "\n",
       "       sub24      sub25      sub26      sub27      sub28      sub29  \\\n",
       "0  33.060551  31.144823  30.066593  28.425341  26.476405  22.825424   \n",
       "1  30.265492  28.017851  26.925824  26.000000  23.853721  21.023796   \n",
       "2  31.780497  31.384710  28.792360  28.301943  27.294688  22.627417   \n",
       "3  33.421550  31.256999  30.805844  29.120440  26.400758  23.706539   \n",
       "4  33.015148  31.400637  29.681644  28.460499  26.570661  22.472205   \n",
       "\n",
       "       sub30  label  \n",
       "0  19.104973      0  \n",
       "1  17.464249      0  \n",
       "2  20.248457      0  \n",
       "3  20.000000      0  \n",
       "4  19.723083      0  \n",
       "\n",
       "[5 rows x 31 columns]"
      ]
     },
     "execution_count": 134,
     "metadata": {},
     "output_type": "execute_result"
    }
   ],
   "source": [
    "data_2 = pd.read_csv('../output/csi_data.csv')\n",
    "# checking our dataframe once again\n",
    "data_2 = data_2.drop([data_2.columns[0]], axis='columns')\n",
    "data_2.head()"
   ]
  },
  {
   "cell_type": "code",
   "execution_count": 135,
   "metadata": {},
   "outputs": [],
   "source": [
    "X_data = data_2.iloc[:, 1:]\n",
    "target = data_2.iloc[:, -1]"
   ]
  },
  {
   "cell_type": "code",
   "execution_count": 136,
   "metadata": {},
   "outputs": [
    {
     "name": "stdout",
     "output_type": "stream",
     "text": [
      "X_train.shape:  (838860, 30)\n",
      "X_test.shape:  (209715, 30)\n"
     ]
    }
   ],
   "source": [
    "x_train, x_test, y_train, y_test = train_test_split(\n",
    "    X_data, target,  test_size=0.20, random_state=120, shuffle=False)  # false for timeseries\n",
    "print('X_train.shape: ', x_train.shape)\n",
    "print('X_test.shape: ', x_test.shape)"
   ]
  },
  {
   "cell_type": "code",
   "execution_count": 137,
   "metadata": {},
   "outputs": [
    {
     "name": "stdout",
     "output_type": "stream",
     "text": [
      "[[0.43271925 0.49498833 0.48492583 ... 0.24133966 0.28960229 0.        ]\n",
      " [0.38935199 0.43196543 0.43599803 ... 0.22229053 0.26473141 0.        ]\n",
      " [0.42781733 0.47645362 0.48631736 ... 0.23924607 0.30693576 0.        ]\n",
      " ...\n",
      " [0.42781733 0.4726626  0.46211161 ... 0.28371094 0.34897434 0.        ]\n",
      " [0.42418799 0.45980853 0.45682696 ... 0.26956686 0.34566645 0.        ]\n",
      " [0.43466512 0.48021577 0.46473218 ... 0.27429466 0.33348648 0.        ]]\n"
     ]
    }
   ],
   "source": [
    "# Scaling\n",
    "scaler = MinMaxScaler()\n",
    "data_scaled = scaler.fit_transform(X_data)\n",
    "data_scaled\n",
    "print(data_scaled)\n",
    "# standardizer = StandardScaler()\n",
    "# data_scaled = standardizer.fit_transform(X_data)\n",
    "# data_scaled\n",
    "# print(data_scaled)"
   ]
  },
  {
   "cell_type": "code",
   "execution_count": 138,
   "metadata": {},
   "outputs": [
    {
     "data": {
      "text/plain": [
       "array([[0.42880203, 0.4637008 , 0.44908774, ..., 0.2179738 , 0.26473141,\n",
       "        0.        ],\n",
       "       [0.47996513, 0.52188547, 0.50808036, ..., 0.24592827, 0.31868872,\n",
       "        0.        ],\n",
       "       [0.49617171, 0.51550726, 0.50701369, ..., 0.24683576, 0.30203051,\n",
       "        0.        ],\n",
       "       ...,\n",
       "       [0.42781733, 0.4726626 , 0.46211161, ..., 0.28371094, 0.34897434,\n",
       "        0.        ],\n",
       "       [0.42418799, 0.45980853, 0.45682696, ..., 0.26956686, 0.34566645,\n",
       "        0.        ],\n",
       "       [0.43466512, 0.48021577, 0.46473218, ..., 0.27429466, 0.33348648,\n",
       "        0.        ]])"
      ]
     },
     "execution_count": 138,
     "metadata": {},
     "output_type": "execute_result"
    }
   ],
   "source": [
    "x_test_scaled = scaler.transform(x_test)\n",
    "x_test_scaled"
   ]
  },
  {
   "cell_type": "code",
   "execution_count": 139,
   "metadata": {},
   "outputs": [
    {
     "name": "stdout",
     "output_type": "stream",
     "text": [
      "X_train.shape:  (838860, 30, 1)\n",
      "X_test.shape:  (209715, 30, 1)\n"
     ]
    }
   ],
   "source": [
    "x_train = x_train.values.reshape(838860, 30, 1)\n",
    "x_test = x_test.values.reshape(209715, 30, 1)\n",
    "print('X_train.shape: ', x_train.shape)\n",
    "print('X_test.shape: ', x_test.shape)"
   ]
  },
  {
   "cell_type": "code",
   "execution_count": 140,
   "metadata": {},
   "outputs": [
    {
     "name": "stdout",
     "output_type": "stream",
     "text": [
      "Model: \"sequential_8\"\n",
      "_________________________________________________________________\n",
      "Layer (type)                 Output Shape              Param #   \n",
      "=================================================================\n",
      "lstm_8 (LSTM)                (None, 30, 64)            16896     \n",
      "_________________________________________________________________\n",
      "dense_16 (Dense)             (None, 30, 32)            2080      \n",
      "_________________________________________________________________\n",
      "dense_17 (Dense)             (None, 30, 1)             33        \n",
      "=================================================================\n",
      "Total params: 19,009\n",
      "Trainable params: 19,009\n",
      "Non-trainable params: 0\n",
      "_________________________________________________________________\n"
     ]
    }
   ],
   "source": [
    "# Set up parameters\n",
    "n_steps = 30\n",
    "n_features = 1\n",
    "epochs = 5\n",
    "\n",
    "# Create a traditional RNN network\n",
    "model_RNN = tf.keras.Sequential()\n",
    "model_RNN.add(tf.keras.layers.LSTM(64, input_shape=(\n",
    "    n_steps, n_features),  return_sequences=True,))\n",
    "model_RNN.add(tf.keras.layers.Dense(32, activation='relu'))\n",
    "model_RNN.add(tf.keras.layers.Dense(1, activation='sigmoid'))\n",
    "model_RNN.summary()"
   ]
  },
  {
   "cell_type": "code",
   "execution_count": 141,
   "metadata": {},
   "outputs": [],
   "source": [
    "cp1 = ModelCheckpoint('../save/rnn_model/', save_best_only=True)\n",
    "# early_stopping = tf.keras.callbacks.EarlyStopping(\n",
    "#     monitor='val_loss',\n",
    "#     patience=2,\n",
    "#     mode='min'\n",
    "# )\n",
    "\n",
    "model_RNN.compile(optimizer=tf.keras.optimizers.Adam(lr=0.001),\n",
    "              loss='binary_crossentropy', metrics=['accuracy'])\n"
   ]
  },
  {
   "cell_type": "code",
   "execution_count": 142,
   "metadata": {},
   "outputs": [
    {
     "name": "stdout",
     "output_type": "stream",
     "text": [
      "Epoch 1/5\n",
      "83883/83886 [============================>.] - ETA: 0s - loss: 0.3907 - accuracy: 0.8601WARNING:tensorflow:Can save best model only with val_loss available, skipping.\n",
      "83886/83886 [==============================] - 401s 5ms/step - loss: 0.3907 - accuracy: 0.8601\n",
      "Epoch 2/5\n",
      "83878/83886 [============================>.] - ETA: 0s - loss: 0.3664 - accuracy: 0.8653WARNING:tensorflow:Can save best model only with val_loss available, skipping.\n",
      "83886/83886 [==============================] - 398s 5ms/step - loss: 0.3663 - accuracy: 0.8653\n",
      "Epoch 3/5\n",
      "83877/83886 [============================>.] - ETA: 0s - loss: 0.3525 - accuracy: 0.8685WARNING:tensorflow:Can save best model only with val_loss available, skipping.\n",
      "83886/83886 [==============================] - 397s 5ms/step - loss: 0.3525 - accuracy: 0.8685\n",
      "Epoch 4/5\n",
      "83879/83886 [============================>.] - ETA: 0s - loss: 0.3453 - accuracy: 0.8702WARNING:tensorflow:Can save best model only with val_loss available, skipping.\n",
      "83886/83886 [==============================] - 398s 5ms/step - loss: 0.3453 - accuracy: 0.8702\n",
      "Epoch 5/5\n",
      "83883/83886 [============================>.] - ETA: 0s - loss: 0.3408 - accuracy: 0.8713WARNING:tensorflow:Can save best model only with val_loss available, skipping.\n",
      "83886/83886 [==============================] - 400s 5ms/step - loss: 0.3408 - accuracy: 0.8714\n"
     ]
    }
   ],
   "source": [
    "history_1 = model_RNN.fit(x_train, y_train, epochs=epochs,\n",
    "                      batch_size=10, callbacks=[cp1])\n"
   ]
  },
  {
   "cell_type": "code",
   "execution_count": 143,
   "metadata": {},
   "outputs": [
    {
     "name": "stdout",
     "output_type": "stream",
     "text": [
      "{'loss': [0.3906574249267578, 0.366347074508667, 0.35247188806533813, 0.34533819556236267, 0.3408077359199524], 'accuracy': [0.8601388931274414, 0.8653426170349121, 0.868477463722229, 0.8701972961425781, 0.8713506460189819]}\n"
     ]
    }
   ],
   "source": [
    "print(history_1.history)\n"
   ]
  },
  {
   "cell_type": "code",
   "execution_count": 144,
   "metadata": {},
   "outputs": [
    {
     "name": "stdout",
     "output_type": "stream",
     "text": [
      "0.8713506460189819\n"
     ]
    }
   ],
   "source": [
    "best_score = max(history_1.history['accuracy'])\n",
    "\n",
    "print(best_score)"
   ]
  },
  {
   "cell_type": "code",
   "execution_count": 145,
   "metadata": {},
   "outputs": [
    {
     "data": {
      "text/plain": [
       "dict_keys(['loss', 'accuracy'])"
      ]
     },
     "execution_count": 145,
     "metadata": {},
     "output_type": "execute_result"
    }
   ],
   "source": [
    "history_1.history.keys()"
   ]
  },
  {
   "cell_type": "code",
   "execution_count": 146,
   "metadata": {},
   "outputs": [],
   "source": [
    "def vis(history, name):\n",
    "    plt.title(f\"{name.upper()}\", fontsize=20)\n",
    "    plt.xlabel('epochs', fontsize=20)\n",
    "    plt.ylabel(f\"{name.lower()}\", fontsize=20)\n",
    "    plt.xticks(fontsize=20)\n",
    "    plt.yticks(fontsize=20)\n",
    "    value = history.history.get(name)\n",
    "    val_value = history.history.get(f\"val_{name}\", None)\n",
    "    epochs = range(1, len(value)+1)\n",
    "    plt.plot(epochs, value, 'b-', label=f'training {name}')\n",
    "    if val_value is not None:\n",
    "        plt.plot(epochs, val_value, 'r:', label=f'validation {name}')\n",
    "    plt.legend(loc='upper center', bbox_to_anchor=(\n",
    "        0.05, 1.2), fontsize=20, ncol=1)\n",
    "\n",
    "\n",
    "def plot_history(history):\n",
    "    key_value = list(set([i.split(\"val_\")[-1]\n",
    "                     for i in list(history.history.keys())]))\n",
    "    plt.figure(figsize=(20, 8))\n",
    "    for idx, key in enumerate(key_value):\n",
    "        plt.subplot(1, len(key_value), idx+1)\n",
    "        vis(history, key)\n",
    "    plt.tight_layout()\n",
    "    plt.show()"
   ]
  },
  {
   "cell_type": "code",
   "execution_count": 147,
   "metadata": {},
   "outputs": [
    {
     "data": {
      "image/png": "[encoded data removed]",
      "text/plain": [
       "<Figure size 1440x576 with 2 Axes>"
      ]
     },
     "metadata": {},
     "output_type": "display_data"
    }
   ],
   "source": [
    "plot_history(history_1)\n"
   ]
  },
  {
   "cell_type": "code",
   "execution_count": null,
   "metadata": {},
   "outputs": [],
   "source": []
  }
 ],
 "metadata": {
  "interpreter": {
   "hash": "8abc43b3d971bbbfe7bddad7665b0e853331231bc5daa59e6002e2c31ec46845"
  },
  "kernelspec": {
   "display_name": "Python 3.7.9 ('Tensorflow210')",
   "language": "python",
   "name": "python3"
  },
  "language_info": {
   "codemirror_mode": {
    "name": "ipython",
    "version": 3
   },
   "file_extension": ".py",
   "mimetype": "text/x-python",
   "name": "python",
   "nbconvert_exporter": "python",
   "pygments_lexer": "ipython3",
   "version": "3.7.9"
  },
  "orig_nbformat": 4
 },
 "nbformat": 4,
 "nbformat_minor": 2
}
